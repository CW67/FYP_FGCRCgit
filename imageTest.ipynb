{
 "cells": [
  {
   "cell_type": "code",
   "execution_count": 12,
   "id": "dd09426a",
   "metadata": {},
   "outputs": [],
   "source": [
    "import numpy as np\n",
    "import argparse\n",
    "import cv2\n",
    "import os"
   ]
  },
  {
   "cell_type": "code",
   "execution_count": 13,
   "id": "80b409a5",
   "metadata": {},
   "outputs": [
    {
     "data": {
      "text/plain": [
       "array([[[161, 157, 153],\n",
       "        [161, 157, 153],\n",
       "        [161, 157, 153],\n",
       "        ...,\n",
       "        [110, 118, 131],\n",
       "        [108, 116, 129],\n",
       "        [108, 116, 129]],\n",
       "\n",
       "       [[160, 156, 152],\n",
       "        [160, 156, 152],\n",
       "        [160, 156, 152],\n",
       "        ...,\n",
       "        [107, 115, 128],\n",
       "        [107, 115, 128],\n",
       "        [107, 115, 128]],\n",
       "\n",
       "       [[160, 155, 154],\n",
       "        [160, 155, 154],\n",
       "        [160, 155, 154],\n",
       "        ...,\n",
       "        [106, 114, 127],\n",
       "        [107, 115, 128],\n",
       "        [107, 115, 128]],\n",
       "\n",
       "       ...,\n",
       "\n",
       "       [[154, 152, 148],\n",
       "        [154, 152, 148],\n",
       "        [154, 152, 148],\n",
       "        ...,\n",
       "        [166, 164, 160],\n",
       "        [166, 164, 160],\n",
       "        [166, 164, 160]],\n",
       "\n",
       "       [[154, 152, 148],\n",
       "        [154, 152, 148],\n",
       "        [154, 152, 148],\n",
       "        ...,\n",
       "        [166, 164, 160],\n",
       "        [166, 164, 160],\n",
       "        [166, 164, 160]],\n",
       "\n",
       "       [[154, 152, 148],\n",
       "        [154, 152, 148],\n",
       "        [154, 152, 148],\n",
       "        ...,\n",
       "        [166, 164, 160],\n",
       "        [166, 164, 160],\n",
       "        [166, 164, 160]]], dtype=uint8)"
      ]
     },
     "execution_count": 13,
     "metadata": {},
     "output_type": "execute_result"
    }
   ],
   "source": [
    "original =  cv2.imread('C:\\\\Users\\\\cheon\\\\MasterData\\\\newTestSet\\\\mLForward\\\\sbnt220.png');\n",
    "original"
   ]
  },
  {
   "cell_type": "code",
   "execution_count": 14,
   "id": "2a49a9e0",
   "metadata": {},
   "outputs": [
    {
     "data": {
      "text/plain": [
       "-1"
      ]
     },
     "execution_count": 14,
     "metadata": {},
     "output_type": "execute_result"
    }
   ],
   "source": [
    "cv2.imshow('color image',original) \n",
    "cv2.waitKey(0); cv2.destroyAllWindows(); cv2.waitKey(1)"
   ]
  },
  {
   "cell_type": "code",
   "execution_count": 15,
   "id": "75285510",
   "metadata": {},
   "outputs": [
    {
     "name": "stdout",
     "output_type": "stream",
     "text": [
      "Resized Dimensions :  (512, 512, 3)\n"
     ]
    }
   ],
   "source": [
    "width = 512\n",
    "height = 512\n",
    "dim = (width, height)\n",
    " \n",
    "# resize image\n",
    "resized = cv2.resize(original, dim, interpolation = cv2.INTER_AREA)\n",
    " \n",
    "print('Resized Dimensions : ',resized.shape)\n",
    " \n",
    "cv2.imshow(\"Resized image\", resized)\n",
    "cv2.waitKey(0)\n",
    "cv2.destroyAllWindows()"
   ]
  },
  {
   "cell_type": "code",
   "execution_count": 16,
   "id": "4aa9e498",
   "metadata": {},
   "outputs": [],
   "source": [
    "# define the upper and lower boundaries of the HSV pixel\n",
    "# intensities to be considered 'skin'\n",
    "\n",
    "#sa values\n",
    "#lower = np.array([60, 50, 20], dtype = \"uint8\")\n",
    "#upper = np.array([200, 255, 255], dtype = \"uint8\")\n",
    "\n",
    "#sb values\n",
    "#lower = np.array([90, 30, 20], dtype = \"uint8\")\n",
    "#upper = np.array([180, 255, 200], dtype = \"uint8\")\n",
    "\n",
    "#sc values\n",
    "#lower = np.array([30, 5,0], dtype = \"uint8\")\n",
    "#upper = np.array([180, 255, 160], dtype = \"uint8\")\n",
    "\n",
    "#sd values\n",
    "#lower = np.array([20, 20, 100], dtype = \"uint8\")\n",
    "#upper = np.array([180, 255, 200], dtype = \"uint8\")\n",
    "\n",
    "#se values\n",
    "#lower = np.array([90, 70, 70], dtype = \"uint8\")\n",
    "#upper = np.array([180, 255, 255], dtype = \"uint8\")\n",
    "\n",
    "#sf values\n",
    "#lower = np.array([60, 60, 60], dtype = \"uint8\")\n",
    "#upper = np.array([180, 255, 255], dtype = \"uint8\")"
   ]
  },
  {
   "cell_type": "code",
   "execution_count": 7,
   "id": "7fef7eab",
   "metadata": {},
   "outputs": [],
   "source": [
    "converted = cv2.cvtColor(resized, cv2.COLOR_RGB2HSV)\n",
    "blur = cv2.blur(converted,(5,5))\n",
    "\n",
    "\n",
    "    "
   ]
  },
  {
   "cell_type": "code",
   "execution_count": null,
   "id": "30c70ea2",
   "metadata": {},
   "outputs": [],
   "source": [
    "data = img_to_array(converted)\n",
    "# expand dimension to one sample\n",
    "samples = expand_dims(data, 0)\n",
    "# create image data augmentation generator\n",
    "datagen = ImageDataGenerator(width_shift_range=[-20,20],height_shift_range=0.2)\n",
    "# prepare iterator\n",
    "it = datagen.flow(samples, batch_size=1)\n",
    "# generate samples and plot\n",
    "for i in range(9):\n",
    "    # define subplot\n",
    "    pyplot.subplot(330 + 1 + i)\n",
    "    # generate batch of images\n",
    "    batch = it.next()\n",
    "    # convert to unsigned integers for viewing\n",
    "    image = batch[0].astype('uint8')\n",
    "    # plot raw pixel data\n",
    "    pyplot.imshow(image)"
   ]
  },
  {
   "cell_type": "code",
   "execution_count": 17,
   "id": "e8c886dc",
   "metadata": {},
   "outputs": [],
   "source": [
    "skinMask = cv2.inRange(converted, lower, upper)\n",
    "cv2.imshow('result', skinMask)\n",
    "cv2.waitKey()\n",
    "cv2.waitKey(0)\n",
    "cv2.destroyAllWindows()"
   ]
  },
  {
   "cell_type": "code",
   "execution_count": 18,
   "id": "afc148a2",
   "metadata": {},
   "outputs": [],
   "source": [
    "# apply a series of erosions and dilations to the mask\n",
    "# using an elliptical kernel\n",
    "kernel = cv2.getStructuringElement(cv2.MORPH_ELLIPSE, (5, 5))\n",
    "skinMask = cv2.erode(skinMask, kernel, iterations = 2)\n",
    "skinMask = cv2.dilate(skinMask, kernel, iterations = 5)\n",
    "skin = cv2.bitwise_and(resized, resized, mask = skinMask)\n",
    "# show the skin in the image along with the mask\n",
    "cv2.imshow(\"images\", skinMask)\n",
    "\n",
    "# show the skin in the image along with the mask\n",
    "#cv2.imshow(\"Mask image\", skinMask)\n",
    "cv2.waitKey(0)\n",
    "cv2.destroyAllWindows()\n"
   ]
  },
  {
   "cell_type": "code",
   "execution_count": 39,
   "id": "dbf0ef01",
   "metadata": {},
   "outputs": [],
   "source": [
    "#Test (NOT WORKING) for further shadow removal by taking only larges contour\n",
    "output = skin\n",
    "contours, hierarchy = cv2.findContours(skinMask, cv2.RETR_EXTERNAL, cv2.CHAIN_APPROX_NONE)\n",
    "blank_mask = np.zeros(output.shape, dtype=np.uint8)\n",
    "\n",
    "if len(contours) != 0:\n",
    "    # draw in blue the contours that were founded\n",
    "\n",
    "    # find the biggest countour (c) by the area\n",
    "    c = max(contours, key = cv2.contourArea)\n",
    "    \n",
    "    cv2.fillPoly(blank_mask, [c], (255,255,255))\n",
    "\n",
    "\n",
    "# show the images\n",
    "cv2.imshow(\"Result\", blank_mask)\n",
    "cv2.waitKey(0)\n",
    "cv2.destroyAllWindows()\n"
   ]
  },
  {
   "cell_type": "code",
   "execution_count": 15,
   "id": "288988f7",
   "metadata": {},
   "outputs": [],
   "source": [
    "#sa values\n",
    "#lower = np.array([60, 50, 20], dtype = \"uint8\")\n",
    "#upper = np.array([200, 255, 255], dtype = \"uint8\")\n",
    "\n",
    "#sb values\n",
    "#lower = np.array([90, 30, 20], dtype = \"uint8\")\n",
    "#upper = np.array([180, 255, 200], dtype = \"uint8\")\n",
    "\n",
    "#sc values\n",
    "#lower = np.array([30, 5,0], dtype = \"uint8\")\n",
    "#upper = np.array([180, 255, 160], dtype = \"uint8\")\n",
    "\n",
    "#sd values\n",
    "#lower = np.array([20, 20, 100], dtype = \"uint8\")\n",
    "#upper = np.array([180, 255, 200], dtype = \"uint8\")\n",
    "\n",
    "#se values\n",
    "#lower = np.array([90, 70, 70], dtype = \"uint8\")\n",
    "#upper = np.array([180, 255, 255], dtype = \"uint8\")\n",
    "\n",
    "#sf values\n",
    "#lower = np.array([60, 60, 60], dtype = \"uint8\")\n",
    "#upper = np.array([180, 255, 255], dtype = \"uint8\")"
   ]
  },
  {
   "cell_type": "code",
   "execution_count": 13,
   "id": "76bc39c4",
   "metadata": {},
   "outputs": [],
   "source": [
    "#Function to convert images to mask \n",
    "#Manually set lower and upper boundaries depending on the userclass\n",
    "#No one size fit all method\n",
    "\n",
    "import numpy as np\n",
    "import argparse\n",
    "import cv2\n",
    "from numpy import expand_dims\n",
    "from tensorflow.keras.utils import load_img\n",
    "from tensorflow.keras.utils import img_to_array\n",
    "from tensorflow.keras.preprocessing.image import ImageDataGenerator\n",
    "from matplotlib import pyplot\n",
    "\n",
    "\n",
    "def massconvert(imageDir,filename,saveDir):\n",
    "    original =  cv2.imread(imageDir);\n",
    "    width = 512\n",
    "    height = 512\n",
    "    dim = (width, height)\n",
    "\n",
    "    # resize image\n",
    "    resized = cv2.resize(original, dim, interpolation = cv2.INTER_AREA)\n",
    "\n",
    "    # define the upper and lower boundaries of the HSV pixel\n",
    "    # intensities to be considered 'skin'\n",
    "    \n",
    "    #sa values\n",
    "    #lower = np.array([60, 50, 20], dtype = \"uint8\")\n",
    "    #upper = np.array([200, 255, 255], dtype = \"uint8\")\n",
    "\n",
    "    #sb values\n",
    "    #lower = np.array([90, 30, 20], dtype = \"uint8\")\n",
    "    #upper = np.array([180, 255, 200], dtype = \"uint8\")\n",
    "\n",
    "    #sc values\n",
    "    #lower = np.array([30, 5,0], dtype = \"uint8\")\n",
    "    #upper = np.array([180, 255, 160], dtype = \"uint8\")\n",
    "\n",
    "    #sd values\n",
    "    #lower = np.array([20, 20, 100], dtype = \"uint8\")\n",
    "    #upper = np.array([180, 255, 200], dtype = \"uint8\")\n",
    "\n",
    "    #se values\n",
    "    #lower = np.array([90, 70, 70], dtype = \"uint8\")\n",
    "    #upper = np.array([180, 255, 255], dtype = \"uint8\")\n",
    "\n",
    "    #sf values\n",
    "    lower = np.array([60, 60, 60], dtype = \"uint8\")\n",
    "    upper = np.array([180, 255, 255], dtype = \"uint8\")\n",
    "    \n",
    "    converted = cv2.cvtColor(resized, cv2.COLOR_RGB2HSV)\n",
    "    \n",
    "    #DATA AUGMENTATION LOOP\n",
    "    data = img_to_array(converted)\n",
    "    # expand dimension to one sample\n",
    "    samples = expand_dims(data, 0)\n",
    "    # create image data augmentation generator\n",
    "    datagen = ImageDataGenerator(width_shift_range=[-40,40],height_shift_range=0.3,zoom_range=0.3)\n",
    "    # prepare iterator\n",
    "    it = datagen.flow(samples, batch_size=1)\n",
    "    # generate samples and plot\n",
    "    for i in range(6):\n",
    "        # define subplot\n",
    "        pyplot.subplot(330 + 1 + i)\n",
    "        # generate batch of images\n",
    "        batch = it.next()\n",
    "        # convert to unsigned integers for viewing\n",
    "        image = batch[0].astype('uint8')\n",
    "        # plot raw pixel data\n",
    "        pyplot.imshow(image)\n",
    "        skinMask = cv2.inRange(image, lower, upper)\n",
    "        # apply a series of erosions and dilations to the mask\n",
    "        # using an elliptical kernel\n",
    "        kernel = cv2.getStructuringElement(cv2.MORPH_ELLIPSE, (5, 5))\n",
    "        skinMask = cv2.erode(skinMask, kernel, iterations = 3)\n",
    "        skinMask = cv2.dilate(skinMask, kernel, iterations = 5)\n",
    "        skinMask = cv2.GaussianBlur(skinMask, (3, 3), 0)\n",
    "        cv2.imwrite(saveDir + '\\\\AUGPR' + str(i) + filename , skinMask)\n",
    "        #print(saveDir + '\\\\AUGPR' + filename)\n",
    "        \n",
    "        \n",
    "    skinMask = cv2.inRange(converted, lower, upper)\n",
    "    # apply a series of erosions and dilations to the mask\n",
    "    # using an elliptical kernel\n",
    "    kernel = cv2.getStructuringElement(cv2.MORPH_ELLIPSE, (5, 5))\n",
    "    skinMask = cv2.erode(skinMask, kernel, iterations = 3)\n",
    "    skinMask = cv2.dilate(skinMask, kernel, iterations = 5)\n",
    "    skinMask = cv2.GaussianBlur(skinMask, (3, 3), 0)\n",
    "    cv2.imwrite(saveDir + '\\\\PR'  + filename , skinMask)\n",
    "    #print(saveDir + '\\\\PR' + filename)\n"
   ]
  },
  {
   "cell_type": "code",
   "execution_count": 25,
   "id": "458148ab",
   "metadata": {},
   "outputs": [],
   "source": [
    "#Function to convert images to mask , augmented using the binary mask instead\n",
    "\n",
    "import numpy as np\n",
    "import argparse\n",
    "import cv2\n",
    "from numpy import expand_dims\n",
    "from tensorflow.keras.utils import load_img\n",
    "from tensorflow.keras.utils import img_to_array\n",
    "from tensorflow.keras.preprocessing.image import ImageDataGenerator\n",
    "from matplotlib import pyplot\n",
    "\n",
    "\n",
    "def massconvert(imageDir,filename,saveDir):\n",
    "    original =  cv2.imread(imageDir);\n",
    "    width = 512\n",
    "    height = 512\n",
    "    dim = (width, height)\n",
    "\n",
    "    # resize image\n",
    "    resized = cv2.resize(original, dim, interpolation = cv2.INTER_AREA)\n",
    "\n",
    "    # define the upper and lower boundaries of the HSV pixel\n",
    "    # intensities to be considered 'skin'\n",
    "    \n",
    "    #sa values\n",
    "    #lower = np.array([60, 50, 20], dtype = \"uint8\")\n",
    "    #upper = np.array([200, 255, 255], dtype = \"uint8\")\n",
    "\n",
    "    #sb values\n",
    "    #lower = np.array([90, 30, 20], dtype = \"uint8\")\n",
    "    #upper = np.array([180, 255, 200], dtype = \"uint8\")\n",
    "\n",
    "    #sc values\n",
    "    #lower = np.array([30, 5,0], dtype = \"uint8\")\n",
    "    #upper = np.array([180, 255, 160], dtype = \"uint8\")\n",
    "\n",
    "    #sd values\n",
    "    lower = np.array([20, 20, 100], dtype = \"uint8\")\n",
    "    upper = np.array([180, 255, 200], dtype = \"uint8\")\n",
    "\n",
    "    #se values\n",
    "    #lower = np.array([90, 70, 70], dtype = \"uint8\")\n",
    "    #upper = np.array([180, 255, 255], dtype = \"uint8\")\n",
    "\n",
    "    #sf values\n",
    "    #lower = np.array([60, 60, 60], dtype = \"uint8\")\n",
    "    #upper = np.array([180, 255, 255], dtype = \"uint8\")\n",
    "    \n",
    "    converted = cv2.cvtColor(resized, cv2.COLOR_RGB2HSV)\n",
    "    \n",
    "    #Generate Binary Skin Mask\n",
    "    skinMask = cv2.inRange(converted, lower, upper)\n",
    "    # apply a series of erosions and dilations to the mask\n",
    "    # using an elliptical kernel\n",
    "    kernel = cv2.getStructuringElement(cv2.MORPH_ELLIPSE, (5, 5))\n",
    "    skinMask = cv2.erode(skinMask, kernel, iterations = 3)\n",
    "    skinMask = cv2.dilate(skinMask, kernel, iterations = 5)\n",
    "    skinMask = cv2.GaussianBlur(skinMask, (3, 3), 0)\n",
    "    cv2.imwrite(saveDir + '\\\\PR' + filename , skinMask)\n",
    "    \n",
    "    #DATA AUGMENTATION LOOP\n",
    "    data = img_to_array(skinMask)\n",
    "    # expand dimension to one sample\n",
    "    samples = expand_dims(data, 0)\n",
    "    # create image data augmentation generator\n",
    "    datagen = ImageDataGenerator(width_shift_range=0.2,height_shift_range=0.2,zoom_range=0.2)\n",
    "    # prepare iterator\n",
    "    it = datagen.flow(samples, batch_size=1)\n",
    "    #print(saveDir + '\\\\PR' + filename)\n",
    "    # generate samples and plot\n",
    "    for i in range(9):\n",
    "        # define subplot\n",
    "        pyplot.subplot(330 + 1 + i)\n",
    "        # generate batch of images\n",
    "        batch = it.next()\n",
    "        # convert to unsigned integers for viewing\n",
    "        image = batch[0].astype('uint8')\n",
    "        cv2.imwrite(saveDir + '\\\\AUGPR' + str(i) + filename , image)\n",
    "        #print(saveDir + '\\\\AUGPR' + filename)\n",
    "        \n",
    "        \n"
   ]
  },
  {
   "cell_type": "code",
   "execution_count": 26,
   "id": "f8b881e7",
   "metadata": {},
   "outputs": [],
   "source": [
    "#Function to loop through the subdirectory andd convert all images matching prefix(which indicatesa a certain user's feet type)\n",
    "\n",
    "def conversionLoop(mainDir,subdirectory,prefix):\n",
    "    saveDir = 'C:\\\\Users\\Cheon\\MasterData\\\\ktraining\\\\' + subdirectory\n",
    "    print('Executing loop ' + subdirectory + ' PREFIX: ' + prefix)\n",
    "    import os, re\n",
    "    pfName = mainDir + subdirectory\n",
    "    for i in os.listdir(pfName):\n",
    "        #rint(os.path.join(pfName,i))\n",
    "        if os.path.isfile(os.path.join(pfName,i)) and i.startswith(prefix):\n",
    "            #print(pfName)\n",
    "            massconvert(os.path.join(pfName,i),i,saveDir)\n",
    "            #print(os.path.join(pfName,i))\n",
    "   "
   ]
  },
  {
   "cell_type": "code",
   "execution_count": 27,
   "id": "ed04220c",
   "metadata": {},
   "outputs": [
    {
     "name": "stdout",
     "output_type": "stream",
     "text": [
      "Executing loop Close PREFIX: sd\n",
      "Starting\n",
      "Executing loop LForward PREFIX: sd\n",
      "Starting\n",
      "Executing loop LTurn PREFIX: sd\n",
      "Starting\n",
      "Executing loop Neutral PREFIX: sd\n",
      "Starting\n",
      "Executing loop PointIn PREFIX: sd\n",
      "Starting\n",
      "Executing loop PointOut PREFIX: sd\n",
      "Starting\n",
      "Executing loop RForward PREFIX: sd\n",
      "Starting\n",
      "Executing loop RTurn PREFIX: sd\n",
      "Starting\n",
      "operation Complete\n"
     ]
    },
    {
     "data": {
      "image/png": "[encoded data removed]",
      "text/plain": [
       "<Figure size 432x288 with 9 Axes>"
      ]
     },
     "metadata": {
      "needs_background": "light"
     },
     "output_type": "display_data"
    }
   ],
   "source": [
    "#Execute conversion loop in all subdirectories\n",
    "import scipy\n",
    "from scipy import ndimage\n",
    "dirList = ['Close','LForward','LTurn','Neutral','PointIn','PointOut','RForward','RTurn']\n",
    "for i in dirList:\n",
    "    conversionLoop('C:\\\\Users\\Cheon\\MasterData\\\\raws\\\\' ,i,'sd')\n",
    "    print('Starting')\n",
    "print('operation Complete')"
   ]
  },
  {
   "cell_type": "code",
   "execution_count": null,
   "id": "1374d614",
   "metadata": {},
   "outputs": [],
   "source": [
    "for root, subdirectories, files in os.walk(directory):\n",
    "    for subdirectory in subdirectories:\n",
    "        print(subdirectory)"
   ]
  },
  {
   "cell_type": "code",
   "execution_count": null,
   "id": "6769b7ea",
   "metadata": {},
   "outputs": [],
   "source": [
    "#Test for auto skin thresholding using foot-at-center as example\n"
   ]
  },
  {
   "cell_type": "code",
   "execution_count": 317,
   "id": "c0fa89cb",
   "metadata": {},
   "outputs": [
    {
     "data": {
      "image/png": "[encoded data removed]",
      "text/plain": [
       "<Figure size 432x288 with 9 Axes>"
      ]
     },
     "metadata": {
      "needs_background": "light"
     },
     "output_type": "display_data"
    }
   ],
   "source": [
    "#Data augmentation TEST Segment\n",
    "\n",
    "#Model Training Segment\n",
    "# example of horizontal shift image augmentation\n",
    "from numpy import expand_dims\n",
    "from tensorflow.keras.utils import load_img\n",
    "from tensorflow.keras.utils import img_to_array\n",
    "from tensorflow.keras.preprocessing.image import ImageDataGenerator\n",
    "from matplotlib import pyplot\n",
    "# load the image\n",
    "img = cv2.imread('C:\\\\Users\\Cheon\\MasterData\\mLForward\\PRsfn52.png');\n",
    "# convert to numpy array\n",
    "data = img_to_array(img)\n",
    "# expand dimension to one sample\n",
    "samples = expand_dims(data, 0)\n",
    "# create image data augmentation generator\n",
    "datagen = ImageDataGenerator(width_shift_range=[-50,50],height_shift_range=0.2)\n",
    "# prepare iterator\n",
    "it = datagen.flow(samples, batch_size=1)\n",
    "# generate samples and plot\n",
    "for i in range(9):\n",
    "    # define subplot\n",
    "    pyplot.subplot(330 + 1 + i)\n",
    "    # generate batch of images\n",
    "    batch = it.next()\n",
    "    # convert to unsigned integers for viewing\n",
    "    image = batch[0].astype('uint8')\n",
    "    # plot raw pixel data\n",
    "    pyplot.imshow(image)\n",
    "# show the figure\n",
    "pyplot.show()"
   ]
  },
  {
   "cell_type": "code",
   "execution_count": 29,
   "id": "75e21a18",
   "metadata": {},
   "outputs": [],
   "source": [
    "import splitfolders\n",
    "import splitfolders\n",
    "splitfolders.ratio('C:\\\\Users\\Cheon\\MasterData\\ktraining', output=\"C:\\\\Users\\Cheon\\MasterData\\ktraining\", seed=1337, ratio=(.8,0,.2)) "
   ]
  },
  {
   "cell_type": "code",
   "execution_count": 1,
   "id": "17a7ff2c",
   "metadata": {},
   "outputs": [],
   "source": [
    "import matplotlib.pyplot as plt\n",
    "import numpy as np\n",
    "import PIL\n",
    "import tensorflow as tf\n",
    "\n",
    "from tensorflow import keras\n",
    "from tensorflow.keras import layers\n",
    "from tensorflow.keras.models import Sequential"
   ]
  },
  {
   "cell_type": "code",
   "execution_count": 2,
   "id": "847f9c4d",
   "metadata": {},
   "outputs": [
    {
     "name": "stdout",
     "output_type": "stream",
     "text": [
      "Found 10056 files belonging to 8 classes.\n",
      "Using 7040 files for training.\n",
      "Found 10056 files belonging to 8 classes.\n",
      "Using 3016 files for validation.\n",
      "Found 2514 files belonging to 8 classes.\n"
     ]
    }
   ],
   "source": [
    "batch_size = 16\n",
    "STEPS_PER_EPOCH = batch_size\n",
    "data_dir = 'C:\\\\Users\\\\Cheon\\\\MasterData\\\\ktraining\\\\train'\n",
    "test_dir = 'C:\\\\Users\\\\Cheon\\\\MasterData\\\\ktraining\\\\test'\n",
    "train_ds = tf.keras.utils.image_dataset_from_directory(\n",
    "  data_dir,\n",
    "  validation_split=0.3,\n",
    "  image_size=(64, 64),\n",
    "  subset=\"training\",\n",
    "  seed=123,\n",
    "  batch_size=batch_size)\n",
    "\n",
    "val_ds = tf.keras.utils.image_dataset_from_directory(\n",
    "  data_dir,\n",
    "  validation_split=0.3,\n",
    "  image_size=(64, 64),\n",
    "  subset=\"validation\",\n",
    "  seed=123,\n",
    "  batch_size=batch_size)\n",
    "\n",
    "test_ds = tf.keras.utils.image_dataset_from_directory(\n",
    "  test_dir,\n",
    "  image_size=(64, 64),\n",
    "  seed=123,\n",
    "  batch_size=batch_size)"
   ]
  },
  {
   "cell_type": "code",
   "execution_count": 7,
   "id": "aaa298b8",
   "metadata": {},
   "outputs": [
    {
     "name": "stdout",
     "output_type": "stream",
     "text": [
      "['Close', 'LForward', 'LTurn', 'Neutral', 'PointIn', 'PointOut', 'RForward', 'RTurn']\n"
     ]
    }
   ],
   "source": [
    "class_names = train_ds.class_names\n",
    "print(class_names)\n",
    "\n"
   ]
  },
  {
   "cell_type": "code",
   "execution_count": 4,
   "id": "12abec5a",
   "metadata": {},
   "outputs": [
    {
     "data": {
      "image/png": "[encoded data removed]",
      "text/plain": [
       "<Figure size 720x720 with 8 Axes>"
      ]
     },
     "metadata": {
      "needs_background": "light"
     },
     "output_type": "display_data"
    }
   ],
   "source": [
    "import matplotlib.pyplot as plt\n",
    "\n",
    "plt.figure(figsize=(10, 10))\n",
    "for images, labels in train_ds.take(1):\n",
    "  for i in range(8):\n",
    "    ax = plt.subplot(3, 3, i + 1)\n",
    "    plt.imshow(images[i].numpy().astype(\"uint8\"))\n",
    "    plt.title(class_names[labels[i]])\n",
    "    plt.axis(\"off\")"
   ]
  },
  {
   "cell_type": "code",
   "execution_count": 5,
   "id": "62a31c96",
   "metadata": {},
   "outputs": [
    {
     "name": "stdout",
     "output_type": "stream",
     "text": [
      "(16, 64, 64, 3)\n",
      "(16,)\n"
     ]
    }
   ],
   "source": [
    "for image_batch, labels_batch in train_ds:\n",
    "  print(image_batch.shape)\n",
    "  print(labels_batch.shape)\n",
    "  break"
   ]
  },
  {
   "cell_type": "code",
   "execution_count": 3,
   "id": "e3ea015f",
   "metadata": {},
   "outputs": [],
   "source": [
    "from tensorflow.keras import layers\n",
    "from tensorflow.keras import regularizers\n",
    "\n",
    "lr_schedule = tf.keras.optimizers.schedules.InverseTimeDecay(\n",
    "  0.001,\n",
    "  decay_steps=STEPS_PER_EPOCH*10,\n",
    "  decay_rate=1,\n",
    "  staircase=False)\n",
    "\n",
    "\n",
    "def get_optimizer():\n",
    "  return tf.keras.optimizers.Adam(lr_schedule)"
   ]
  },
  {
   "cell_type": "code",
   "execution_count": 4,
   "id": "fcc8e2cf",
   "metadata": {},
   "outputs": [
    {
     "data": {
      "image/png": "[encoded data removed]",
      "text/plain": [
       "<Figure size 576x432 with 1 Axes>"
      ]
     },
     "metadata": {
      "needs_background": "light"
     },
     "output_type": "display_data"
    }
   ],
   "source": [
    "step = np.linspace(0,1000)\n",
    "lr = lr_schedule(step)\n",
    "plt.figure(figsize = (8,6))\n",
    "plt.plot(step/STEPS_PER_EPOCH, lr)\n",
    "plt.ylim([0,max(plt.ylim())])\n",
    "plt.xlabel('Epoch')\n",
    "_ = plt.ylabel('Learning Rates')"
   ]
  },
  {
   "cell_type": "code",
   "execution_count": 5,
   "id": "6308007e",
   "metadata": {},
   "outputs": [],
   "source": [
    "def get_callbacks(name):\n",
    "  return [\n",
    "    tfdocs.modeling.EpochDots(),\n",
    "    tf.keras.callbacks.EarlyStopping(monitor='val_binary_crossentropy', patience=200),\n",
    "    tf.keras.callbacks.TensorBoard(logdir/name),\n",
    "  ]"
   ]
  },
  {
   "cell_type": "code",
   "execution_count": 8,
   "id": "093fec26",
   "metadata": {},
   "outputs": [],
   "source": [
    "num_classes = len(class_names)\n",
    "img_height = 64\n",
    "img_width = 64\n",
    "\n",
    "model = Sequential([\n",
    "  layers.Conv2D(32, 3, padding='same', activation='relu',kernel_regularizer=regularizers.l2(0.001)),\n",
    "  layers.MaxPooling2D(),\n",
    "  layers.Conv2D(64, 3, padding='same', activation='relu',kernel_regularizer=regularizers.l2(0.001)),\n",
    "  layers.MaxPooling2D(),\n",
    "  layers.Conv2D(128, 3, padding='same', activation='relu',kernel_regularizer=regularizers.l2(0.001)),\n",
    "  layers.MaxPooling2D(),\n",
    "  layers.Flatten(),\n",
    "  layers.Dropout(0.2),\n",
    "  layers.Dense(256, activation='relu', kernel_regularizer=regularizers.l2(0.001)),\n",
    "  layers.Dense(num_classes)\n",
    "])"
   ]
  },
  {
   "cell_type": "code",
   "execution_count": 9,
   "id": "861e7616",
   "metadata": {},
   "outputs": [],
   "source": [
    "optimizer = get_optimizer()\n",
    "model.compile(optimizer= get_optimizer(),\n",
    "              loss=tf.keras.losses.SparseCategoricalCrossentropy(from_logits=True),\n",
    "                metrics=[\n",
    "                  tf.keras.losses.SparseCategoricalCrossentropy(\n",
    "                      from_logits=True, name='Sparse_Categorical_Crossentropy'),\n",
    "                  'accuracy'])"
   ]
  },
  {
   "cell_type": "code",
   "execution_count": 10,
   "id": "edcd1f01",
   "metadata": {},
   "outputs": [
    {
     "ename": "ValueError",
     "evalue": "This model has not yet been built. Build the model first by calling `build()` or by calling the model on a batch of data.",
     "output_type": "error",
     "traceback": [
      "\u001b[1;31m---------------------------------------------------------------------------\u001b[0m",
      "\u001b[1;31mValueError\u001b[0m                                Traceback (most recent call last)",
      "\u001b[1;32m~\\AppData\\Local\\Temp\\ipykernel_25008\\3035046171.py\u001b[0m in \u001b[0;36m<module>\u001b[1;34m\u001b[0m\n\u001b[1;32m----> 1\u001b[1;33m \u001b[0mmodel\u001b[0m\u001b[1;33m.\u001b[0m\u001b[0msummary\u001b[0m\u001b[1;33m(\u001b[0m\u001b[1;33m)\u001b[0m\u001b[1;33m\u001b[0m\u001b[1;33m\u001b[0m\u001b[0m\n\u001b[0m",
      "\u001b[1;32m~\\anaconda3\\envs\\tf\\lib\\site-packages\\keras\\engine\\training.py\u001b[0m in \u001b[0;36msummary\u001b[1;34m(self, line_length, positions, print_fn, expand_nested, show_trainable)\u001b[0m\n\u001b[0;32m   2867\u001b[0m     \"\"\"\n\u001b[0;32m   2868\u001b[0m     \u001b[1;32mif\u001b[0m \u001b[1;32mnot\u001b[0m \u001b[0mself\u001b[0m\u001b[1;33m.\u001b[0m\u001b[0mbuilt\u001b[0m\u001b[1;33m:\u001b[0m\u001b[1;33m\u001b[0m\u001b[1;33m\u001b[0m\u001b[0m\n\u001b[1;32m-> 2869\u001b[1;33m       raise ValueError(\n\u001b[0m\u001b[0;32m   2870\u001b[0m           \u001b[1;34m'This model has not yet been built. '\u001b[0m\u001b[1;33m\u001b[0m\u001b[1;33m\u001b[0m\u001b[0m\n\u001b[0;32m   2871\u001b[0m           \u001b[1;34m'Build the model first by calling `build()` or by calling '\u001b[0m\u001b[1;33m\u001b[0m\u001b[1;33m\u001b[0m\u001b[0m\n",
      "\u001b[1;31mValueError\u001b[0m: This model has not yet been built. Build the model first by calling `build()` or by calling the model on a batch of data."
     ]
    }
   ],
   "source": [
    "model.summary()\n"
   ]
  },
  {
   "cell_type": "code",
   "execution_count": 11,
   "id": "b51a0d69",
   "metadata": {},
   "outputs": [
    {
     "name": "stdout",
     "output_type": "stream",
     "text": [
      "Epoch 1/10\n",
      "440/440 [==============================] - 10s 14ms/step - loss: 2.9868 - Sparse_Categorical_Crossentropy: 2.4096 - accuracy: 0.5541 - val_loss: 1.1181 - val_Sparse_Categorical_Crossentropy: 0.5526 - val_accuracy: 0.8286\n",
      "Epoch 2/10\n",
      "440/440 [==============================] - 6s 14ms/step - loss: 0.9596 - Sparse_Categorical_Crossentropy: 0.4043 - accuracy: 0.8723 - val_loss: 0.8653 - val_Sparse_Categorical_Crossentropy: 0.3199 - val_accuracy: 0.9038\n",
      "Epoch 3/10\n",
      "440/440 [==============================] - 6s 13ms/step - loss: 0.7377 - Sparse_Categorical_Crossentropy: 0.2018 - accuracy: 0.9372 - val_loss: 0.7845 - val_Sparse_Categorical_Crossentropy: 0.2567 - val_accuracy: 0.9218\n",
      "Epoch 4/10\n",
      "440/440 [==============================] - 6s 13ms/step - loss: 0.6560 - Sparse_Categorical_Crossentropy: 0.1366 - accuracy: 0.9580 - val_loss: 0.7510 - val_Sparse_Categorical_Crossentropy: 0.2386 - val_accuracy: 0.9231\n",
      "Epoch 5/10\n",
      "440/440 [==============================] - 6s 13ms/step - loss: 0.5967 - Sparse_Categorical_Crossentropy: 0.0921 - accuracy: 0.9724 - val_loss: 0.7248 - val_Sparse_Categorical_Crossentropy: 0.2268 - val_accuracy: 0.9310\n",
      "Epoch 6/10\n",
      "440/440 [==============================] - 6s 13ms/step - loss: 0.5671 - Sparse_Categorical_Crossentropy: 0.0764 - accuracy: 0.9767 - val_loss: 0.7176 - val_Sparse_Categorical_Crossentropy: 0.2330 - val_accuracy: 0.9320\n",
      "Epoch 7/10\n",
      "440/440 [==============================] - 6s 13ms/step - loss: 0.5384 - Sparse_Categorical_Crossentropy: 0.0609 - accuracy: 0.9818 - val_loss: 0.6948 - val_Sparse_Categorical_Crossentropy: 0.2233 - val_accuracy: 0.9377\n",
      "Epoch 8/10\n",
      "440/440 [==============================] - 6s 13ms/step - loss: 0.5124 - Sparse_Categorical_Crossentropy: 0.0478 - accuracy: 0.9852 - val_loss: 0.6847 - val_Sparse_Categorical_Crossentropy: 0.2260 - val_accuracy: 0.9387\n",
      "Epoch 9/10\n",
      "440/440 [==============================] - 6s 13ms/step - loss: 0.4929 - Sparse_Categorical_Crossentropy: 0.0411 - accuracy: 0.9891 - val_loss: 0.6665 - val_Sparse_Categorical_Crossentropy: 0.2205 - val_accuracy: 0.9413\n",
      "Epoch 10/10\n",
      "440/440 [==============================] - 6s 13ms/step - loss: 0.4791 - Sparse_Categorical_Crossentropy: 0.0400 - accuracy: 0.9885 - val_loss: 0.6591 - val_Sparse_Categorical_Crossentropy: 0.2284 - val_accuracy: 0.9383\n"
     ]
    }
   ],
   "source": [
    "epochs=10\n",
    "history = model.fit(\n",
    "  train_ds,\n",
    "  validation_data=val_ds,\n",
    "  epochs=epochs\n",
    ")"
   ]
  },
  {
   "cell_type": "code",
   "execution_count": 12,
   "id": "757948e6",
   "metadata": {},
   "outputs": [
    {
     "data": {
      "image/png": "[encoded data removed]",
      "text/plain": [
       "<Figure size 648x1080 with 3 Axes>"
      ]
     },
     "metadata": {
      "needs_background": "light"
     },
     "output_type": "display_data"
    }
   ],
   "source": [
    "acc = history.history['accuracy']\n",
    "val_acc = history.history['val_accuracy']\n",
    "\n",
    "loss = history.history['loss']\n",
    "val_loss = history.history['val_loss']\n",
    "\n",
    "ce = history.history['Sparse_Categorical_Crossentropy']\n",
    "val_ce = history.history['val_Sparse_Categorical_Crossentropy']\n",
    "\n",
    "\n",
    "\n",
    "epochs_range = range(epochs)\n",
    "\n",
    "plt.figure(figsize=(9, 15))\n",
    "plt.subplot(3, 1, 1)\n",
    "plt.plot(epochs_range, acc, label='Training Accuracy')\n",
    "plt.plot(epochs_range, val_acc, label='Validation Accuracy')\n",
    "plt.legend(loc='lower right')\n",
    "plt.title('Training and Validation Accuracy')\n",
    "\n",
    "plt.subplot(3, 1, 2)\n",
    "plt.plot(epochs_range, loss, label='Training Loss')\n",
    "plt.plot(epochs_range, val_loss, label='Validation Loss')\n",
    "plt.legend(loc='upper right')\n",
    "plt.title('Training and Validation Loss')\n",
    "\n",
    "plt.subplot(3, 1, 3)\n",
    "plt.plot(epochs_range, ce, label='Training crossentropy')\n",
    "plt.plot(epochs_range, val_ce, label='Validation crossentropy')\n",
    "plt.legend(loc='upper right')\n",
    "plt.title('Training and Validation crossentropy')\n",
    "plt.show()\n"
   ]
  },
  {
   "cell_type": "code",
   "execution_count": 43,
   "id": "c2ae5e15",
   "metadata": {},
   "outputs": [
    {
     "name": "stdout",
     "output_type": "stream",
     "text": [
      "dict_keys(['loss', 'Sparse_Categorical_Crossentropy', 'accuracy', 'val_loss', 'val_Sparse_Categorical_Crossentropy', 'val_accuracy'])\n"
     ]
    }
   ],
   "source": [
    "print(history.history.keys())"
   ]
  },
  {
   "cell_type": "code",
   "execution_count": 13,
   "id": "147346ac",
   "metadata": {},
   "outputs": [
    {
     "name": "stdout",
     "output_type": "stream",
     "text": [
      "Found 139 files belonging to 8 classes.\n"
     ]
    }
   ],
   "source": [
    "batch_size = 32\n",
    "STEPS_PER_EPOCH = batch_size\n",
    "data_dir = 'C:\\\\Users\\\\Cheon\\\\MasterData\\\\newTestSet'\n",
    "nts_ds = tf.keras.utils.image_dataset_from_directory(\n",
    "  data_dir,\n",
    "  image_size=(64, 64),\n",
    "  seed=123,\n",
    "  batch_size=batch_size)"
   ]
  },
  {
   "cell_type": "code",
   "execution_count": 15,
   "id": "293114f4",
   "metadata": {},
   "outputs": [
    {
     "name": "stdout",
     "output_type": "stream",
     "text": [
      "Evaluate on test data\n",
      "5/5 [==============================] - 1s 33ms/step - loss: 0.5574 - Sparse_Categorical_Crossentropy: 0.1506 - accuracy: 0.9568\n",
      "test loss, test acc: [0.5574239492416382, 0.15063758194446564, 0.9568345546722412]\n"
     ]
    }
   ],
   "source": [
    "print(\"Evaluate on test data\")\n",
    "results = model.evaluate(nts_ds, batch_size=32)\n",
    "print(\"test loss, test acc:\", results)\n"
   ]
  },
  {
   "cell_type": "code",
   "execution_count": 2,
   "id": "200ae3c8",
   "metadata": {},
   "outputs": [
    {
     "name": "stdout",
     "output_type": "stream",
     "text": [
      "Num GPUs Available:  0\n"
     ]
    }
   ],
   "source": [
    "print(\"Num GPUs Available: \", len(tf.config.experimental.list_physical_devices('GPU')))\n"
   ]
  },
  {
   "cell_type": "code",
   "execution_count": 1,
   "id": "59070cf0",
   "metadata": {},
   "outputs": [
    {
     "name": "stdout",
     "output_type": "stream",
     "text": [
      "hi\n"
     ]
    }
   ],
   "source": [
    "print('hi')"
   ]
  },
  {
   "cell_type": "code",
   "execution_count": 81,
   "id": "a30fa07e",
   "metadata": {},
   "outputs": [],
   "source": [
    "from sklearn.metrics import confusion_matrix\n",
    "#Predict\n",
    "y_prediction = model.predict(x_test)\n",
    "\n",
    "#Create confusion matrix and normalizes it over predicted (columns)\n",
    "result = confusion_matrix(y_test, y_prediction , normalize='pred')\n"
   ]
  },
  {
   "cell_type": "code",
   "execution_count": 9,
   "id": "6a802ee3",
   "metadata": {},
   "outputs": [],
   "source": [
    "#----HYPERTUNING EXPERIMENT\n",
    "\n",
    "img_height = 256\n",
    "img_width = 256\n",
    "\n",
    "def build_model(hp):\n",
    "    # create model object\n",
    "    model = keras.Sequential([\n",
    "    #adding first convolutional layer    \n",
    "    layers.Rescaling(1./255, input_shape=(img_height, img_width, 3)),\n",
    "    keras.layers.Conv2D(\n",
    "        #adding filter \n",
    "        filters=hp.Int('conv_1_filter', min_value=16, max_value=32, step=16),\n",
    "        # adding filter size or kernel size\n",
    "        kernel_size=hp.Choice('conv_1_kernel', values = [3,5]),\n",
    "        #activation function\n",
    "        activation='relu',\n",
    "        input_shape=(256,256,3)),\n",
    "    # adding second convolutional layer \n",
    "    keras.layers.Conv2D(\n",
    "        #adding filter \n",
    "        filters=hp.Int('conv_2_filter', min_value=32, max_value=64, step=16),\n",
    "        #adding filter size or kernel size\n",
    "        kernel_size=hp.Choice('conv_2_kernel', values = [3,5]),\n",
    "        #activation function\n",
    "        activation='relu'\n",
    "    ),\n",
    "    # adding flatten layer    \n",
    "    keras.layers.Flatten(),\n",
    "    # adding dense layer    \n",
    "    keras.layers.Dense(\n",
    "        units=hp.Int('dense_1_units', min_value=32, max_value=128, step=16),\n",
    "        activation='relu'\n",
    "    ),\n",
    "    # output layer    \n",
    "    keras.layers.Dense(8, activation='softmax')\n",
    "    ])\n",
    "    #compilation of model\n",
    "    model.compile(optimizer=keras.optimizers.Adam(hp.Choice('learning_rate', values=[1e-2, 1e-3])),\n",
    "              loss='sparse_categorical_crossentropy',\n",
    "              metrics=['accuracy'])\n",
    "    return model"
   ]
  },
  {
   "cell_type": "code",
   "execution_count": 10,
   "id": "4a01f742",
   "metadata": {
    "scrolled": false
   },
   "outputs": [
    {
     "name": "stdout",
     "output_type": "stream",
     "text": [
      "INFO:tensorflow:Reloading Oracle from existing project .\\untitled_project\\oracle.json\n"
     ]
    },
    {
     "ename": "ResourceExhaustedError",
     "evalue": "failed to allocate memory [Op:Mul]",
     "output_type": "error",
     "traceback": [
      "\u001b[1;31m---------------------------------------------------------------------------\u001b[0m",
      "\u001b[1;31mResourceExhaustedError\u001b[0m                    Traceback (most recent call last)",
      "\u001b[1;32m~\\AppData\\Local\\Temp\\ipykernel_21552\\959524500.py\u001b[0m in \u001b[0;36m<module>\u001b[1;34m\u001b[0m\n\u001b[0;32m      3\u001b[0m \u001b[1;32mfrom\u001b[0m \u001b[0mkerastuner\u001b[0m \u001b[1;32mimport\u001b[0m \u001b[0mRandomSearch\u001b[0m\u001b[1;33m\u001b[0m\u001b[1;33m\u001b[0m\u001b[0m\n\u001b[0;32m      4\u001b[0m \u001b[1;31m#creating randomsearch object\u001b[0m\u001b[1;33m\u001b[0m\u001b[1;33m\u001b[0m\u001b[0m\n\u001b[1;32m----> 5\u001b[1;33m tuner = RandomSearch(build_model,\n\u001b[0m\u001b[0;32m      6\u001b[0m                     \u001b[0mobjective\u001b[0m\u001b[1;33m=\u001b[0m\u001b[1;34m'val_accuracy'\u001b[0m\u001b[1;33m,\u001b[0m\u001b[1;33m\u001b[0m\u001b[1;33m\u001b[0m\u001b[0m\n\u001b[0;32m      7\u001b[0m                     max_trials = 5)\n",
      "\u001b[1;32m~\\anaconda3\\envs\\tf\\lib\\site-packages\\keras_tuner\\tuners\\randomsearch.py\u001b[0m in \u001b[0;36m__init__\u001b[1;34m(self, hypermodel, objective, max_trials, seed, hyperparameters, tune_new_entries, allow_new_entries, **kwargs)\u001b[0m\n\u001b[0;32m    143\u001b[0m             \u001b[0mallow_new_entries\u001b[0m\u001b[1;33m=\u001b[0m\u001b[0mallow_new_entries\u001b[0m\u001b[1;33m,\u001b[0m\u001b[1;33m\u001b[0m\u001b[1;33m\u001b[0m\u001b[0m\n\u001b[0;32m    144\u001b[0m         )\n\u001b[1;32m--> 145\u001b[1;33m         \u001b[0msuper\u001b[0m\u001b[1;33m(\u001b[0m\u001b[0mRandomSearch\u001b[0m\u001b[1;33m,\u001b[0m \u001b[0mself\u001b[0m\u001b[1;33m)\u001b[0m\u001b[1;33m.\u001b[0m\u001b[0m__init__\u001b[0m\u001b[1;33m(\u001b[0m\u001b[0moracle\u001b[0m\u001b[1;33m,\u001b[0m \u001b[0mhypermodel\u001b[0m\u001b[1;33m,\u001b[0m \u001b[1;33m**\u001b[0m\u001b[0mkwargs\u001b[0m\u001b[1;33m)\u001b[0m\u001b[1;33m\u001b[0m\u001b[1;33m\u001b[0m\u001b[0m\n\u001b[0m",
      "\u001b[1;32m~\\anaconda3\\envs\\tf\\lib\\site-packages\\keras_tuner\\engine\\tuner.py\u001b[0m in \u001b[0;36m__init__\u001b[1;34m(self, oracle, hypermodel, max_model_size, optimizer, loss, metrics, distribution_strategy, directory, project_name, logger, tuner_id, overwrite, executions_per_trial)\u001b[0m\n\u001b[0;32m    108\u001b[0m             )\n\u001b[0;32m    109\u001b[0m \u001b[1;33m\u001b[0m\u001b[0m\n\u001b[1;32m--> 110\u001b[1;33m         super(Tuner, self).__init__(\n\u001b[0m\u001b[0;32m    111\u001b[0m             \u001b[0moracle\u001b[0m\u001b[1;33m=\u001b[0m\u001b[0moracle\u001b[0m\u001b[1;33m,\u001b[0m\u001b[1;33m\u001b[0m\u001b[1;33m\u001b[0m\u001b[0m\n\u001b[0;32m    112\u001b[0m             \u001b[0mhypermodel\u001b[0m\u001b[1;33m=\u001b[0m\u001b[0mhypermodel\u001b[0m\u001b[1;33m,\u001b[0m\u001b[1;33m\u001b[0m\u001b[1;33m\u001b[0m\u001b[0m\n",
      "\u001b[1;32m~\\anaconda3\\envs\\tf\\lib\\site-packages\\keras_tuner\\engine\\base_tuner.py\u001b[0m in \u001b[0;36m__init__\u001b[1;34m(self, oracle, hypermodel, directory, project_name, logger, overwrite)\u001b[0m\n\u001b[0;32m    101\u001b[0m         \u001b[0mself\u001b[0m\u001b[1;33m.\u001b[0m\u001b[0m_display\u001b[0m \u001b[1;33m=\u001b[0m \u001b[0mtuner_utils\u001b[0m\u001b[1;33m.\u001b[0m\u001b[0mDisplay\u001b[0m\u001b[1;33m(\u001b[0m\u001b[0moracle\u001b[0m\u001b[1;33m=\u001b[0m\u001b[0mself\u001b[0m\u001b[1;33m.\u001b[0m\u001b[0moracle\u001b[0m\u001b[1;33m)\u001b[0m\u001b[1;33m\u001b[0m\u001b[1;33m\u001b[0m\u001b[0m\n\u001b[0;32m    102\u001b[0m \u001b[1;33m\u001b[0m\u001b[0m\n\u001b[1;32m--> 103\u001b[1;33m         \u001b[0mself\u001b[0m\u001b[1;33m.\u001b[0m\u001b[0m_populate_initial_space\u001b[0m\u001b[1;33m(\u001b[0m\u001b[1;33m)\u001b[0m\u001b[1;33m\u001b[0m\u001b[1;33m\u001b[0m\u001b[0m\n\u001b[0m\u001b[0;32m    104\u001b[0m \u001b[1;33m\u001b[0m\u001b[0m\n\u001b[0;32m    105\u001b[0m         \u001b[1;32mif\u001b[0m \u001b[1;32mnot\u001b[0m \u001b[0moverwrite\u001b[0m \u001b[1;32mand\u001b[0m \u001b[0mtf\u001b[0m\u001b[1;33m.\u001b[0m\u001b[0mio\u001b[0m\u001b[1;33m.\u001b[0m\u001b[0mgfile\u001b[0m\u001b[1;33m.\u001b[0m\u001b[0mexists\u001b[0m\u001b[1;33m(\u001b[0m\u001b[0mself\u001b[0m\u001b[1;33m.\u001b[0m\u001b[0m_get_tuner_fname\u001b[0m\u001b[1;33m(\u001b[0m\u001b[1;33m)\u001b[0m\u001b[1;33m)\u001b[0m\u001b[1;33m:\u001b[0m\u001b[1;33m\u001b[0m\u001b[1;33m\u001b[0m\u001b[0m\n",
      "\u001b[1;32m~\\anaconda3\\envs\\tf\\lib\\site-packages\\keras_tuner\\engine\\base_tuner.py\u001b[0m in \u001b[0;36m_populate_initial_space\u001b[1;34m(self)\u001b[0m\n\u001b[0;32m    133\u001b[0m \u001b[1;33m\u001b[0m\u001b[0m\n\u001b[0;32m    134\u001b[0m             \u001b[1;32mwhile\u001b[0m \u001b[1;32mTrue\u001b[0m\u001b[1;33m:\u001b[0m\u001b[1;33m\u001b[0m\u001b[1;33m\u001b[0m\u001b[0m\n\u001b[1;32m--> 135\u001b[1;33m                 \u001b[0mself\u001b[0m\u001b[1;33m.\u001b[0m\u001b[0mhypermodel\u001b[0m\u001b[1;33m.\u001b[0m\u001b[0mbuild\u001b[0m\u001b[1;33m(\u001b[0m\u001b[0mhp\u001b[0m\u001b[1;33m)\u001b[0m\u001b[1;33m\u001b[0m\u001b[1;33m\u001b[0m\u001b[0m\n\u001b[0m\u001b[0;32m    136\u001b[0m \u001b[1;33m\u001b[0m\u001b[0m\n\u001b[0;32m    137\u001b[0m                 \u001b[1;31m# Update the recored scopes.\u001b[0m\u001b[1;33m\u001b[0m\u001b[1;33m\u001b[0m\u001b[0m\n",
      "\u001b[1;32m~\\AppData\\Local\\Temp\\ipykernel_21552\\323821933.py\u001b[0m in \u001b[0;36mbuild_model\u001b[1;34m(hp)\u001b[0m\n\u001b[0;32m      6\u001b[0m \u001b[1;32mdef\u001b[0m \u001b[0mbuild_model\u001b[0m\u001b[1;33m(\u001b[0m\u001b[0mhp\u001b[0m\u001b[1;33m)\u001b[0m\u001b[1;33m:\u001b[0m\u001b[1;33m\u001b[0m\u001b[1;33m\u001b[0m\u001b[0m\n\u001b[0;32m      7\u001b[0m     \u001b[1;31m# create model object\u001b[0m\u001b[1;33m\u001b[0m\u001b[1;33m\u001b[0m\u001b[0m\n\u001b[1;32m----> 8\u001b[1;33m     model = keras.Sequential([\n\u001b[0m\u001b[0;32m      9\u001b[0m     \u001b[1;31m#adding first convolutional layer\u001b[0m\u001b[1;33m\u001b[0m\u001b[1;33m\u001b[0m\u001b[0m\n\u001b[0;32m     10\u001b[0m     \u001b[0mlayers\u001b[0m\u001b[1;33m.\u001b[0m\u001b[0mRescaling\u001b[0m\u001b[1;33m(\u001b[0m\u001b[1;36m1.\u001b[0m\u001b[1;33m/\u001b[0m\u001b[1;36m255\u001b[0m\u001b[1;33m,\u001b[0m \u001b[0minput_shape\u001b[0m\u001b[1;33m=\u001b[0m\u001b[1;33m(\u001b[0m\u001b[0mimg_height\u001b[0m\u001b[1;33m,\u001b[0m \u001b[0mimg_width\u001b[0m\u001b[1;33m,\u001b[0m \u001b[1;36m3\u001b[0m\u001b[1;33m)\u001b[0m\u001b[1;33m)\u001b[0m\u001b[1;33m,\u001b[0m\u001b[1;33m\u001b[0m\u001b[1;33m\u001b[0m\u001b[0m\n",
      "\u001b[1;32m~\\anaconda3\\envs\\tf\\lib\\site-packages\\tensorflow\\python\\training\\tracking\\base.py\u001b[0m in \u001b[0;36m_method_wrapper\u001b[1;34m(self, *args, **kwargs)\u001b[0m\n\u001b[0;32m    585\u001b[0m     \u001b[0mself\u001b[0m\u001b[1;33m.\u001b[0m\u001b[0m_self_setattr_tracking\u001b[0m \u001b[1;33m=\u001b[0m \u001b[1;32mFalse\u001b[0m  \u001b[1;31m# pylint: disable=protected-access\u001b[0m\u001b[1;33m\u001b[0m\u001b[1;33m\u001b[0m\u001b[0m\n\u001b[0;32m    586\u001b[0m     \u001b[1;32mtry\u001b[0m\u001b[1;33m:\u001b[0m\u001b[1;33m\u001b[0m\u001b[1;33m\u001b[0m\u001b[0m\n\u001b[1;32m--> 587\u001b[1;33m       \u001b[0mresult\u001b[0m \u001b[1;33m=\u001b[0m \u001b[0mmethod\u001b[0m\u001b[1;33m(\u001b[0m\u001b[0mself\u001b[0m\u001b[1;33m,\u001b[0m \u001b[1;33m*\u001b[0m\u001b[0margs\u001b[0m\u001b[1;33m,\u001b[0m \u001b[1;33m**\u001b[0m\u001b[0mkwargs\u001b[0m\u001b[1;33m)\u001b[0m\u001b[1;33m\u001b[0m\u001b[1;33m\u001b[0m\u001b[0m\n\u001b[0m\u001b[0;32m    588\u001b[0m     \u001b[1;32mfinally\u001b[0m\u001b[1;33m:\u001b[0m\u001b[1;33m\u001b[0m\u001b[1;33m\u001b[0m\u001b[0m\n\u001b[0;32m    589\u001b[0m       \u001b[0mself\u001b[0m\u001b[1;33m.\u001b[0m\u001b[0m_self_setattr_tracking\u001b[0m \u001b[1;33m=\u001b[0m \u001b[0mprevious_value\u001b[0m  \u001b[1;31m# pylint: disable=protected-access\u001b[0m\u001b[1;33m\u001b[0m\u001b[1;33m\u001b[0m\u001b[0m\n",
      "\u001b[1;32m~\\anaconda3\\envs\\tf\\lib\\site-packages\\keras\\utils\\traceback_utils.py\u001b[0m in \u001b[0;36merror_handler\u001b[1;34m(*args, **kwargs)\u001b[0m\n\u001b[0;32m     65\u001b[0m     \u001b[1;32mexcept\u001b[0m \u001b[0mException\u001b[0m \u001b[1;32mas\u001b[0m \u001b[0me\u001b[0m\u001b[1;33m:\u001b[0m  \u001b[1;31m# pylint: disable=broad-except\u001b[0m\u001b[1;33m\u001b[0m\u001b[1;33m\u001b[0m\u001b[0m\n\u001b[0;32m     66\u001b[0m       \u001b[0mfiltered_tb\u001b[0m \u001b[1;33m=\u001b[0m \u001b[0m_process_traceback_frames\u001b[0m\u001b[1;33m(\u001b[0m\u001b[0me\u001b[0m\u001b[1;33m.\u001b[0m\u001b[0m__traceback__\u001b[0m\u001b[1;33m)\u001b[0m\u001b[1;33m\u001b[0m\u001b[1;33m\u001b[0m\u001b[0m\n\u001b[1;32m---> 67\u001b[1;33m       \u001b[1;32mraise\u001b[0m \u001b[0me\u001b[0m\u001b[1;33m.\u001b[0m\u001b[0mwith_traceback\u001b[0m\u001b[1;33m(\u001b[0m\u001b[0mfiltered_tb\u001b[0m\u001b[1;33m)\u001b[0m \u001b[1;32mfrom\u001b[0m \u001b[1;32mNone\u001b[0m\u001b[1;33m\u001b[0m\u001b[1;33m\u001b[0m\u001b[0m\n\u001b[0m\u001b[0;32m     68\u001b[0m     \u001b[1;32mfinally\u001b[0m\u001b[1;33m:\u001b[0m\u001b[1;33m\u001b[0m\u001b[1;33m\u001b[0m\u001b[0m\n\u001b[0;32m     69\u001b[0m       \u001b[1;32mdel\u001b[0m \u001b[0mfiltered_tb\u001b[0m\u001b[1;33m\u001b[0m\u001b[1;33m\u001b[0m\u001b[0m\n",
      "\u001b[1;32m~\\anaconda3\\envs\\tf\\lib\\site-packages\\keras\\backend.py\u001b[0m in \u001b[0;36mrandom_uniform\u001b[1;34m(self, shape, minval, maxval, dtype)\u001b[0m\n\u001b[0;32m   1918\u001b[0m       return self._generator.uniform(\n\u001b[0;32m   1919\u001b[0m           shape=shape, minval=minval, maxval=maxval, dtype=dtype)\n\u001b[1;32m-> 1920\u001b[1;33m     return tf.random.uniform(\n\u001b[0m\u001b[0;32m   1921\u001b[0m         \u001b[0mshape\u001b[0m\u001b[1;33m=\u001b[0m\u001b[0mshape\u001b[0m\u001b[1;33m,\u001b[0m \u001b[0mminval\u001b[0m\u001b[1;33m=\u001b[0m\u001b[0mminval\u001b[0m\u001b[1;33m,\u001b[0m \u001b[0mmaxval\u001b[0m\u001b[1;33m=\u001b[0m\u001b[0mmaxval\u001b[0m\u001b[1;33m,\u001b[0m \u001b[0mdtype\u001b[0m\u001b[1;33m=\u001b[0m\u001b[0mdtype\u001b[0m\u001b[1;33m,\u001b[0m\u001b[1;33m\u001b[0m\u001b[1;33m\u001b[0m\u001b[0m\n\u001b[0;32m   1922\u001b[0m         seed=self.make_legacy_seed())\n",
      "\u001b[1;31mResourceExhaustedError\u001b[0m: failed to allocate memory [Op:Mul]"
     ]
    }
   ],
   "source": [
    "#importing random search\n",
    "import keras_tuner\n",
    "from kerastuner import RandomSearch\n",
    "#creating randomsearch object\n",
    "tuner = RandomSearch(build_model,\n",
    "                    objective='val_accuracy',\n",
    "                    max_trials = 5)\n",
    "\n",
    "stop_early = tf.keras.callbacks.EarlyStopping(monitor='val_loss', patience=5)\n",
    "\n",
    "# search best parameter\n",
    "tuner.search(train_ds,epochs=10,validation_data=(val_ds),callbacks=[stop_early], verbose=2)"
   ]
  },
  {
   "cell_type": "code",
   "execution_count": 16,
   "id": "46daeba3",
   "metadata": {},
   "outputs": [
    {
     "name": "stderr",
     "output_type": "stream",
     "text": [
      "WARNING:absl:Found untraced functions such as _jit_compiled_convolution_op, _jit_compiled_convolution_op, _jit_compiled_convolution_op while saving (showing 3 of 3). These functions will not be directly callable after loading.\n"
     ]
    },
    {
     "name": "stdout",
     "output_type": "stream",
     "text": [
      "INFO:tensorflow:Assets written to: saved_model/my_model\\assets\n"
     ]
    },
    {
     "name": "stderr",
     "output_type": "stream",
     "text": [
      "INFO:tensorflow:Assets written to: saved_model/my_model\\assets\n"
     ]
    }
   ],
   "source": [
    "#Save model\n",
    "!mkdir -p saved_model\n",
    "model.save('saved_model/my_model')"
   ]
  },
  {
   "cell_type": "code",
   "execution_count": 35,
   "id": "6c56f848",
   "metadata": {},
   "outputs": [],
   "source": [
    "#Test predicting individual models\n",
    "import numpy as np\n",
    "import argparse\n",
    "import cv2\n",
    "import os\n",
    "test =  cv2.imread('C:\\\\Users\\\\cheon\\\\MasterData\\\\newTestSet\\\\LForward\\\\PR2sbnt237.png');\n"
   ]
  },
  {
   "cell_type": "code",
   "execution_count": 36,
   "id": "88c1b66e",
   "metadata": {},
   "outputs": [],
   "source": [
    "width = 64\n",
    "height = 64\n",
    "dim = (width, height)\n",
    " \n",
    "# resize image\n",
    "resizedTest = cv2.resize(test, dim)"
   ]
  },
  {
   "cell_type": "code",
   "execution_count": 37,
   "id": "29e0fed2",
   "metadata": {},
   "outputs": [
    {
     "name": "stdout",
     "output_type": "stream",
     "text": [
      "Resized Dimensions :  (64, 64, 3)\n"
     ]
    }
   ],
   "source": [
    "print('Resized Dimensions : ',resizedTest.shape)\n",
    " \n",
    "cv2.imshow(\"Resized image\", resizedTest)\n",
    "cv2.waitKey(0)\n",
    "cv2.destroyAllWindows()"
   ]
  },
  {
   "cell_type": "code",
   "execution_count": 38,
   "id": "c269374d",
   "metadata": {},
   "outputs": [],
   "source": [
    "img = resizedTest\n",
    "img_array = tf.keras.utils.img_to_array(img)\n",
    "img_array = tf.expand_dims(img_array, 0)\n"
   ]
  },
  {
   "cell_type": "code",
   "execution_count": 40,
   "id": "3c44f78a",
   "metadata": {},
   "outputs": [
    {
     "name": "stdout",
     "output_type": "stream",
     "text": [
      "1/1 [==============================] - 0s 19ms/step\n",
      "This image most likely belongs to LForward with a 91.49 percent confidence.\n"
     ]
    }
   ],
   "source": [
    "predictions = model.predict(img_array)\n",
    "score = tf.nn.softmax(predictions[0])\n",
    "\n",
    "print(\n",
    "    \"This image most likely belongs to {} with a {:.2f} percent confidence.\"\n",
    "    .format(class_names[np.argmax(score)], 100 * np.max(score))\n",
    ")"
   ]
  },
  {
   "cell_type": "code",
   "execution_count": null,
   "id": "1fd1e928",
   "metadata": {},
   "outputs": [],
   "source": []
  }
 ],
 "metadata": {
  "kernelspec": {
   "display_name": "Python 3 (ipykernel)",
   "language": "python",
   "name": "python3"
  },
  "language_info": {
   "codemirror_mode": {
    "name": "ipython",
    "version": 3
   },
   "file_extension": ".py",
   "mimetype": "text/x-python",
   "name": "python",
   "nbconvert_exporter": "python",
   "pygments_lexer": "ipython3",
   "version": "3.9.12"
  }
 },
 "nbformat": 4,
 "nbformat_minor": 5
}
