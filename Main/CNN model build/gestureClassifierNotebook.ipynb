{
 "cells": [
  {
   "cell_type": "code",
   "execution_count": null,
   "id": "361f9aa1",
   "metadata": {},
   "outputs": [],
   "source": [
    "import numpy as np\n",
    "import argparse\n",
    "import cv2\n",
    "import os"
   ]
  },
  {
   "cell_type": "markdown",
   "id": "268bf3fb",
   "metadata": {},
   "source": [
    "# # Single image conversion, for evaluating image processing techniques"
   ]
  },
  {
   "cell_type": "code",
   "execution_count": 138,
   "id": "80b409a5",
   "metadata": {},
   "outputs": [
    {
     "data": {
      "text/plain": [
       "array([[[146, 142, 138],\n",
       "        [147, 143, 139],\n",
       "        [151, 147, 143],\n",
       "        ...,\n",
       "        [142, 140, 136],\n",
       "        [141, 139, 135],\n",
       "        [141, 139, 135]],\n",
       "\n",
       "       [[147, 143, 139],\n",
       "        [148, 144, 140],\n",
       "        [149, 145, 141],\n",
       "        ...,\n",
       "        [141, 139, 135],\n",
       "        [140, 138, 134],\n",
       "        [140, 138, 134]],\n",
       "\n",
       "       [[150, 146, 142],\n",
       "        [149, 145, 141],\n",
       "        [148, 144, 140],\n",
       "        ...,\n",
       "        [142, 140, 136],\n",
       "        [141, 139, 135],\n",
       "        [141, 139, 135]],\n",
       "\n",
       "       ...,\n",
       "\n",
       "       [[124, 122, 118],\n",
       "        [123, 121, 117],\n",
       "        [124, 122, 118],\n",
       "        ...,\n",
       "        [104, 102,  98],\n",
       "        [104, 102,  98],\n",
       "        [100,  98,  94]],\n",
       "\n",
       "       [[121, 119, 115],\n",
       "        [121, 119, 115],\n",
       "        [121, 119, 115],\n",
       "        ...,\n",
       "        [104, 102,  98],\n",
       "        [104, 102,  98],\n",
       "        [100,  98,  94]],\n",
       "\n",
       "       [[121, 119, 115],\n",
       "        [121, 119, 115],\n",
       "        [120, 118, 114],\n",
       "        ...,\n",
       "        [103, 101,  97],\n",
       "        [104, 102,  98],\n",
       "        [100,  98,  94]]], dtype=uint8)"
      ]
     },
     "execution_count": 138,
     "metadata": {},
     "output_type": "execute_result"
    }
   ],
   "source": [
    "original =  cv2.imread('C:\\\\Users\\\\cheon\\\\MasterData\\\\raws\\\\LTurn\\\\sa175.png');\n",
    "original"
   ]
  },
  {
   "cell_type": "code",
   "execution_count": 118,
   "id": "2a49a9e0",
   "metadata": {},
   "outputs": [
    {
     "data": {
      "text/plain": [
       "-1"
      ]
     },
     "execution_count": 118,
     "metadata": {},
     "output_type": "execute_result"
    }
   ],
   "source": [
    "cv2.imshow('color image',original) \n",
    "cv2.waitKey(0); cv2.destroyAllWindows(); cv2.waitKey(1)"
   ]
  },
  {
   "cell_type": "code",
   "execution_count": 139,
   "id": "0298c8a7",
   "metadata": {},
   "outputs": [
    {
     "ename": "AttributeError",
     "evalue": "'numpy.ndarray' object has no attribute 'width'",
     "output_type": "error",
     "traceback": [
      "\u001b[1;31m---------------------------------------------------------------------------\u001b[0m",
      "\u001b[1;31mAttributeError\u001b[0m                            Traceback (most recent call last)",
      "Input \u001b[1;32mIn [139]\u001b[0m, in \u001b[0;36m<cell line: 1>\u001b[1;34m()\u001b[0m\n\u001b[1;32m----> 1\u001b[0m \u001b[43moriginal\u001b[49m\u001b[38;5;241;43m.\u001b[39;49m\u001b[43mwidth\u001b[49m\n",
      "\u001b[1;31mAttributeError\u001b[0m: 'numpy.ndarray' object has no attribute 'width'"
     ]
    }
   ],
   "source": [
    "original.width"
   ]
  },
  {
   "cell_type": "raw",
   "id": "7b325deb",
   "metadata": {},
   "source": [
    "original"
   ]
  },
  {
   "cell_type": "code",
   "execution_count": 114,
   "id": "75285510",
   "metadata": {},
   "outputs": [
    {
     "name": "stdout",
     "output_type": "stream",
     "text": [
      "Resized Dimensions :  (512, 512, 3)\n"
     ]
    }
   ],
   "source": [
    "width = 512\n",
    "height = 512\n",
    "dim = (width, height)\n",
    " \n",
    "# resize image\n",
    "resized = cv2.resize(original, dim, interpolation = cv2.INTER_AREA)\n",
    " \n",
    "print('Resized Dimensions : ',resized.shape)\n",
    " \n",
    "cv2.imshow(\"Resized image\", resized)\n",
    "cv2.waitKey(0)\n",
    "cv2.destroyAllWindows()"
   ]
  },
  {
   "cell_type": "code",
   "execution_count": 154,
   "id": "7506114a",
   "metadata": {},
   "outputs": [],
   "source": [
    "# Resize\n",
    "border_v = 0\n",
    "border_h = 0\n",
    "if (IMG_COL/IMG_ROW) >= (img.shape[0]/img.shape[1]):\n",
    "    border_v = int((((IMG_COL/IMG_ROW)*img.shape[1])-img.shape[0])/2)\n",
    "else:\n",
    "    border_h = int((((IMG_ROW/IMG_COL)*img.shape[0])-img.shape[1])/2)\n",
    "img = cv2.copyMakeBorder(img, border_v, border_v, border_h, border_h, cv2.BORDER_CONSTANT, 0)\n",
    "img = cv2.resize(img, (IMG_ROW, IMG_COL))"
   ]
  },
  {
   "cell_type": "code",
   "execution_count": 155,
   "id": "24a4d748",
   "metadata": {},
   "outputs": [],
   "source": [
    "testim = image_resize(original, height = 64)\n",
    "cv2.imshow(\"IMG\",testim)\n",
    "cv2.waitKey(0)\n",
    "cv2.destroyAllWindows()"
   ]
  },
  {
   "cell_type": "code",
   "execution_count": 156,
   "id": "228b6d28",
   "metadata": {},
   "outputs": [
    {
     "data": {
      "text/plain": [
       "(64, 113, 3)"
      ]
     },
     "execution_count": 156,
     "metadata": {},
     "output_type": "execute_result"
    }
   ],
   "source": [
    "testim.shape"
   ]
  },
  {
   "cell_type": "code",
   "execution_count": 7,
   "id": "7fef7eab",
   "metadata": {},
   "outputs": [],
   "source": [
    "converted = cv2.cvtColor(resized, cv2.COLOR_RGB2HSV)\n",
    "blur = cv2.blur(converted,(5,5))\n",
    "\n",
    "\n",
    "    "
   ]
  },
  {
   "cell_type": "code",
   "execution_count": null,
   "id": "30c70ea2",
   "metadata": {},
   "outputs": [],
   "source": [
    "data = img_to_array(converted)\n",
    "# expand dimension to one sample\n",
    "samples = expand_dims(data, 0)\n",
    "# create image data augmentation generator\n",
    "datagen = ImageDataGenerator(width_shift_range=[-20,20],height_shift_range=0.2)\n",
    "# prepare iterator\n",
    "it = datagen.flow(samples, batch_size=1)\n",
    "# generate samples and plot\n",
    "for i in range(9):\n",
    "    # define subplot\n",
    "    pyplot.subplot(330 + 1 + i)\n",
    "    # generate batch of images\n",
    "    batch = it.next()\n",
    "    # convert to unsigned integers for viewing\n",
    "    image = batch[0].astype('uint8')\n",
    "    # plot raw pixel data\n",
    "    pyplot.imshow(image)"
   ]
  },
  {
   "cell_type": "code",
   "execution_count": 17,
   "id": "e8c886dc",
   "metadata": {},
   "outputs": [],
   "source": [
    "skinMask = cv2.inRange(converted, lower, upper)\n",
    "cv2.imshow('result', skinMask)\n",
    "cv2.waitKey()\n",
    "cv2.waitKey(0)\n",
    "cv2.destroyAllWindows()"
   ]
  },
  {
   "cell_type": "code",
   "execution_count": 18,
   "id": "afc148a2",
   "metadata": {},
   "outputs": [],
   "source": [
    "# apply a series of erosions and dilations to the mask\n",
    "# using an elliptical kernel\n",
    "kernel = cv2.getStructuringElement(cv2.MORPH_ELLIPSE, (5, 5))\n",
    "skinMask = cv2.erode(skinMask, kernel, iterations = 2)\n",
    "skinMask = cv2.dilate(skinMask, kernel, iterations = 5)\n",
    "skin = cv2.bitwise_and(resized, resized, mask = skinMask)\n",
    "# show the skin in the image along with the mask\n",
    "cv2.imshow(\"images\", skinMask)\n",
    "\n",
    "# show the skin in the image along with the mask\n",
    "#cv2.imshow(\"Mask image\", skinMask)\n",
    "cv2.waitKey(0)\n",
    "cv2.destroyAllWindows()\n"
   ]
  },
  {
   "cell_type": "markdown",
   "id": "bc3a7777",
   "metadata": {},
   "source": [
    "## Data augmentation section with manual HSV values"
   ]
  },
  {
   "cell_type": "code",
   "execution_count": 15,
   "id": "288988f7",
   "metadata": {},
   "outputs": [],
   "source": [
    "#sa values\n",
    "#lower = np.array([60, 50, 20], dtype = \"uint8\")\n",
    "#upper = np.array([200, 255, 255], dtype = \"uint8\")\n",
    "\n",
    "#sb values\n",
    "#lower = np.array([90, 30, 20], dtype = \"uint8\")\n",
    "#upper = np.array([180, 255, 200], dtype = \"uint8\")\n",
    "\n",
    "#sc values\n",
    "#lower = np.array([30, 5,0], dtype = \"uint8\")\n",
    "#upper = np.array([180, 255, 160], dtype = \"uint8\")\n",
    "\n",
    "#sd values\n",
    "#lower = np.array([20, 20, 100], dtype = \"uint8\")\n",
    "#upper = np.array([180, 255, 200], dtype = \"uint8\")\n",
    "\n",
    "#se values\n",
    "#lower = np.array([90, 70, 70], dtype = \"uint8\")\n",
    "#upper = np.array([180, 255, 255], dtype = \"uint8\")\n",
    "\n",
    "#sf values\n",
    "#lower = np.array([60, 60, 60], dtype = \"uint8\")\n",
    "#upper = np.array([180, 255, 255], dtype = \"uint8\")"
   ]
  },
  {
   "cell_type": "code",
   "execution_count": 170,
   "id": "458148ab",
   "metadata": {},
   "outputs": [],
   "source": [
    "#Function to convert images to mask , augmented using the binary mask instead\n",
    "\n",
    "import numpy as np\n",
    "import argparse\n",
    "import cv2\n",
    "from numpy import expand_dims\n",
    "from tensorflow.keras.utils import load_img\n",
    "from tensorflow.keras.utils import img_to_array\n",
    "from tensorflow.keras.preprocessing.image import ImageDataGenerator\n",
    "from matplotlib import pyplot\n",
    "\n",
    "\n",
    "def massconvert(imageDir,filename,saveDir):\n",
    "    original =  cv2.imread(imageDir);\n",
    "    width = 512\n",
    "    height = 512\n",
    "    dim = (width, height)\n",
    "\n",
    "    # resize image\n",
    "    resized = cv2.resize(original, dim, interpolation = cv2.INTER_AREA)\n",
    "\n",
    "    # define the upper and lower boundaries of the HSV pixel\n",
    "    # intensities to be considered 'skin'\n",
    "    \n",
    "    #sa values\n",
    "    #lower = np.array([60, 50, 20], dtype = \"uint8\")\n",
    "    #upper = np.array([200, 255, 255], dtype = \"uint8\")\n",
    "\n",
    "    #sb values\n",
    "    #lower = np.array([90, 30, 20], dtype = \"uint8\")\n",
    "    #upper = np.array([180, 255, 200], dtype = \"uint8\")\n",
    "\n",
    "    #sc values\n",
    "    #lower = np.array([30, 5,0], dtype = \"uint8\")\n",
    "    #upper = np.array([180, 255, 160], dtype = \"uint8\")\n",
    "\n",
    "    #sd values\n",
    "    #lower = np.array([20, 20, 100], dtype = \"uint8\")\n",
    "    #upper = np.array([180, 255, 200], dtype = \"uint8\")\n",
    "\n",
    "    #se values\n",
    "    #lower = np.array([90, 70, 70], dtype = \"uint8\")\n",
    "    #upper = np.array([180, 255, 255], dtype = \"uint8\")\n",
    "\n",
    "    #sf values\n",
    "    lower = np.array([60, 60, 60], dtype = \"uint8\")\n",
    "    upper = np.array([180, 255, 255], dtype = \"uint8\")\n",
    "    \n",
    "    converted = cv2.cvtColor(resized, cv2.COLOR_RGB2HSV)\n",
    "    \n",
    "    #Generate Binary Skin Mask\n",
    "    skinMask = cv2.inRange(converted, lower, upper)\n",
    "    # apply a series of erosions and dilations to the mask\n",
    "    # using an elliptical kernel\n",
    "    kernel = cv2.getStructuringElement(cv2.MORPH_ELLIPSE, (5, 5))\n",
    "    skinMask = cv2.erode(skinMask, kernel, iterations = 3)\n",
    "    skinMask = cv2.dilate(skinMask, kernel, iterations = 5)\n",
    "    skinMask = cv2.GaussianBlur(skinMask, (3, 3), 0)\n",
    "    cv2.imwrite(saveDir + '\\\\PR' + filename , skinMask)\n",
    "    \n",
    "    #DATA AUGMENTATION LOOP\n",
    "    data = img_to_array(skinMask)\n",
    "    # expand dimension to one sample\n",
    "    samples = expand_dims(data, 0)\n",
    "    # create image data augmentation generator\n",
    "    datagen = ImageDataGenerator(width_shift_range=0.2, height_shift_range=0.2, zoom_range=0.3)\n",
    "    # prepare iterator\n",
    "    it = datagen.flow(samples, batch_size=1)\n",
    "    #print(saveDir + '\\\\PR' + filename)\n",
    "    # generate samples and plot\n",
    "    for i in range(15):\n",
    "        # define subplot\n",
    "        # generate batch of images\n",
    "        batch = it.next()\n",
    "        # convert to unsigned integers for viewing\n",
    "        image = batch[0].astype('uint8')\n",
    "        cv2.imwrite(saveDir + '\\\\AUGPR' + str(i) + filename , image)\n",
    "        #print(saveDir + '\\\\AUGPR' + filename)\n",
    "        \n",
    "        \n"
   ]
  },
  {
   "cell_type": "code",
   "execution_count": 171,
   "id": "f8b881e7",
   "metadata": {},
   "outputs": [],
   "source": [
    "#Function to loop through the subdirectory andd convert all images matching prefix(which indicatesa a certain user's feet type)\n",
    "\n",
    "def conversionLoop(mainDir,subdirectory,prefix):\n",
    "    saveDir = 'C:\\\\Users\\Cheon\\MasterData\\\\ktraining\\\\' + subdirectory\n",
    "    print('Executing loop ' + subdirectory + ' PREFIX: ' + prefix)\n",
    "    import os, re\n",
    "    pfName = mainDir + subdirectory\n",
    "    for i in os.listdir(pfName):\n",
    "        #rint(os.path.join(pfName,i))\n",
    "        if os.path.isfile(os.path.join(pfName,i)) and i.startswith(prefix):\n",
    "            #print(pfName)\n",
    "            massconvert(os.path.join(pfName,i),i,saveDir)\n",
    "            #print(os.path.join(pfName,i))\n",
    "   "
   ]
  },
  {
   "cell_type": "code",
   "execution_count": 172,
   "id": "ed04220c",
   "metadata": {},
   "outputs": [
    {
     "name": "stdout",
     "output_type": "stream",
     "text": [
      "Executing loop Close PREFIX: sf\n",
      "Starting\n",
      "Executing loop LForward PREFIX: sf\n",
      "Starting\n",
      "Executing loop LTurn PREFIX: sf\n",
      "Starting\n",
      "Executing loop Neutral PREFIX: sf\n",
      "Starting\n",
      "Executing loop PointIn PREFIX: sf\n",
      "Starting\n",
      "Executing loop PointOut PREFIX: sf\n",
      "Starting\n",
      "Executing loop RForward PREFIX: sf\n",
      "Starting\n",
      "Executing loop RTurn PREFIX: sf\n",
      "Starting\n",
      "operation Complete\n"
     ]
    }
   ],
   "source": [
    "#Execute conversion loop in all subdirectories\n",
    "import scipy\n",
    "from scipy import ndimage\n",
    "dirList = ['Close','LForward','LTurn','Neutral','PointIn','PointOut','RForward','RTurn']\n",
    "for i in dirList:\n",
    "    conversionLoop('C:\\\\Users\\Cheon\\MasterData\\\\raws\\\\' ,i,'sf')\n",
    "    print('Starting')\n",
    "print('operation Complete')"
   ]
  },
  {
   "cell_type": "code",
   "execution_count": 173,
   "id": "1374d614",
   "metadata": {},
   "outputs": [
    {
     "ename": "NameError",
     "evalue": "name 'directory' is not defined",
     "output_type": "error",
     "traceback": [
      "\u001b[1;31m---------------------------------------------------------------------------\u001b[0m",
      "\u001b[1;31mNameError\u001b[0m                                 Traceback (most recent call last)",
      "Input \u001b[1;32mIn [173]\u001b[0m, in \u001b[0;36m<cell line: 1>\u001b[1;34m()\u001b[0m\n\u001b[1;32m----> 1\u001b[0m \u001b[38;5;28;01mfor\u001b[39;00m root, subdirectories, files \u001b[38;5;129;01min\u001b[39;00m os\u001b[38;5;241m.\u001b[39mwalk(\u001b[43mdirectory\u001b[49m):\n\u001b[0;32m      2\u001b[0m     \u001b[38;5;28;01mfor\u001b[39;00m subdirectory \u001b[38;5;129;01min\u001b[39;00m subdirectories:\n\u001b[0;32m      3\u001b[0m         \u001b[38;5;28mprint\u001b[39m(subdirectory)\n",
      "\u001b[1;31mNameError\u001b[0m: name 'directory' is not defined"
     ]
    }
   ],
   "source": [
    "for root, subdirectories, files in os.walk(directory):\n",
    "    for subdirectory in subdirectories:\n",
    "        print(subdirectory)"
   ]
  },
  {
   "cell_type": "markdown",
   "id": "5809a8b6",
   "metadata": {},
   "source": [
    "## Folder splitting and setting train, test, and validation datasets"
   ]
  },
  {
   "cell_type": "code",
   "execution_count": 174,
   "id": "75e21a18",
   "metadata": {},
   "outputs": [
    {
     "name": "stderr",
     "output_type": "stream",
     "text": [
      "Copying files: 13968 files [01:18, 178.89 files/s]\n"
     ]
    }
   ],
   "source": [
    "import splitfolders\n",
    "import splitfolders\n",
    "splitfolders.ratio('C:\\\\Users\\Cheon\\MasterData\\ktraining', output=\"C:\\\\Users\\Cheon\\MasterData\\ktraining\", seed=1337, ratio=(.8,0,.2)) "
   ]
  },
  {
   "cell_type": "code",
   "execution_count": 1,
   "id": "17a7ff2c",
   "metadata": {},
   "outputs": [],
   "source": [
    "import matplotlib.pyplot as plt\n",
    "import numpy as np\n",
    "import PIL\n",
    "import tensorflow as tf\n",
    "\n",
    "from tensorflow import keras\n",
    "from tensorflow.keras import layers\n",
    "from tensorflow.keras.models import Sequential"
   ]
  },
  {
   "cell_type": "code",
   "execution_count": 11,
   "id": "847f9c4d",
   "metadata": {},
   "outputs": [
    {
     "name": "stdout",
     "output_type": "stream",
     "text": [
      "Found 11173 files belonging to 8 classes.\n",
      "Using 7822 files for training.\n",
      "Found 11173 files belonging to 8 classes.\n",
      "Using 3351 files for validation.\n",
      "Found 2795 files belonging to 8 classes.\n"
     ]
    }
   ],
   "source": [
    "batch_size = 16\n",
    "STEPS_PER_EPOCH = batch_size\n",
    "data_dir = 'C:\\\\Users\\\\Cheon\\\\MasterData\\\\ktraining\\\\train'\n",
    "test_dir = 'C:\\\\Users\\\\Cheon\\\\MasterData\\\\ktraining\\\\test'\n",
    "train_ds = tf.keras.utils.image_dataset_from_directory(\n",
    "  data_dir,\n",
    "  validation_split=0.3,\n",
    "  image_size=(64, 64),\n",
    "  subset=\"training\",\n",
    "  seed=123,\n",
    "  batch_size=batch_size)\n",
    "\n",
    "val_ds = tf.keras.utils.image_dataset_from_directory(\n",
    "  data_dir,\n",
    "  validation_split=0.3,\n",
    "  image_size=(64, 64),\n",
    "  subset=\"validation\",\n",
    "  seed=123,\n",
    "  batch_size=batch_size)\n",
    "\n",
    "test_ds = tf.keras.utils.image_dataset_from_directory(\n",
    "  test_dir,\n",
    "  image_size=(64, 64),\n",
    "  seed=123,\n",
    "  batch_size=batch_size)"
   ]
  },
  {
   "cell_type": "markdown",
   "id": "7fc8a080",
   "metadata": {},
   "source": [
    "## Model building section"
   ]
  },
  {
   "cell_type": "code",
   "execution_count": 12,
   "id": "aaa298b8",
   "metadata": {},
   "outputs": [
    {
     "name": "stdout",
     "output_type": "stream",
     "text": [
      "['Close', 'LForward', 'LTurn', 'Neutral', 'PointIn', 'PointOut', 'RForward', 'RTurn']\n"
     ]
    }
   ],
   "source": [
    "#Getting classes (from the folder)\n",
    "class_names = train_ds.class_names\n",
    "print(class_names)\n",
    "\n"
   ]
  },
  {
   "cell_type": "code",
   "execution_count": 178,
   "id": "9025f34c",
   "metadata": {},
   "outputs": [],
   "source": [
    "#Manual setting of class weights\n",
    "class_weight = {0: 0.63,\n",
    "                1: 0.63,\n",
    "                2: 1,\n",
    "                3: 0.3,\n",
    "                4: 0.63,\n",
    "                5: 0.46,\n",
    "                6: 0.4,\n",
    "                7: 0.63}"
   ]
  },
  {
   "cell_type": "code",
   "execution_count": 179,
   "id": "12abec5a",
   "metadata": {},
   "outputs": [
    {
     "data": {
      "image/png": "[encoded data removed]",
      "text/plain": [
       "<Figure size 720x720 with 8 Axes>"
      ]
     },
     "metadata": {
      "needs_background": "light"
     },
     "output_type": "display_data"
    }
   ],
   "source": [
    "#Preview the images\n",
    "import matplotlib.pyplot as plt\n",
    "\n",
    "plt.figure(figsize=(10, 10))\n",
    "for images, labels in train_ds.take(1):\n",
    "  for i in range(8):\n",
    "    ax = plt.subplot(3, 3, i + 1)\n",
    "    plt.imshow(images[i].numpy().astype(\"uint8\"))\n",
    "    plt.title(class_names[labels[i]])\n",
    "    plt.axis(\"off\")"
   ]
  },
  {
   "cell_type": "code",
   "execution_count": 180,
   "id": "62a31c96",
   "metadata": {},
   "outputs": [
    {
     "name": "stdout",
     "output_type": "stream",
     "text": [
      "(16, 64, 64, 3)\n",
      "(16,)\n"
     ]
    }
   ],
   "source": [
    "for image_batch, labels_batch in train_ds:\n",
    "  print(image_batch.shape)\n",
    "  print(labels_batch.shape)\n",
    "  break"
   ]
  },
  {
   "cell_type": "code",
   "execution_count": 16,
   "id": "e3ea015f",
   "metadata": {},
   "outputs": [],
   "source": [
    "#Setting custom Adam optimizer with degrading learning rate\n",
    "from tensorflow.keras import layers\n",
    "from tensorflow.keras import regularizers\n",
    "\n",
    "lr_schedule = tf.keras.optimizers.schedules.InverseTimeDecay(\n",
    "  0.001,\n",
    "  decay_steps=STEPS_PER_EPOCH*10,\n",
    "  decay_rate=1,\n",
    "  staircase=False)\n",
    "\n",
    "\n",
    "def get_optimizer():\n",
    "  return tf.keras.optimizers.Adam(lr_schedule)"
   ]
  },
  {
   "cell_type": "code",
   "execution_count": 17,
   "id": "fcc8e2cf",
   "metadata": {},
   "outputs": [
    {
     "data": {
      "image/png": "[encoded data removed]",
      "text/plain": [
       "<Figure size 576x432 with 1 Axes>"
      ]
     },
     "metadata": {
      "needs_background": "light"
     },
     "output_type": "display_data"
    }
   ],
   "source": [
    "step = np.linspace(0,1000)\n",
    "lr = lr_schedule(step)\n",
    "plt.figure(figsize = (8,6))\n",
    "plt.plot(step/STEPS_PER_EPOCH, lr)\n",
    "plt.ylim([0,max(plt.ylim())])\n",
    "plt.xlabel('Epoch')\n",
    "_ = plt.ylabel('Learning Rates')"
   ]
  },
  {
   "cell_type": "code",
   "execution_count": 18,
   "id": "6308007e",
   "metadata": {},
   "outputs": [],
   "source": [
    "def get_callbacks(name):\n",
    "  return [\n",
    "    tfdocs.modeling.EpochDots(),\n",
    "    tf.keras.callbacks.EarlyStopping(monitor='val_binary_crossentropy', patience=200),\n",
    "    tf.keras.callbacks.TensorBoard(logdir/name),\n",
    "  ]"
   ]
  },
  {
   "cell_type": "code",
   "execution_count": 184,
   "id": "093fec26",
   "metadata": {},
   "outputs": [],
   "source": [
    "#Building the model (sequential model)\n",
    "num_classes = len(class_names)\n",
    "\n",
    "model = Sequential([\n",
    "  layers.Conv2D(32, 3, padding='same', activation='relu',kernel_regularizer=regularizers.l2(0.001)),\n",
    "  layers.MaxPooling2D(),\n",
    "  layers.Conv2D(64, 3, padding='same', activation='relu',kernel_regularizer=regularizers.l2(0.001)),\n",
    "  layers.MaxPooling2D(),\n",
    "  layers.Conv2D(128, 3, padding='same', activation='relu',kernel_regularizer=regularizers.l2(0.001)),\n",
    "  layers.MaxPooling2D(),\n",
    "  layers.Flatten(),\n",
    "  layers.Dropout(0.2),\n",
    "  layers.Dense(256, activation='relu', kernel_regularizer=regularizers.l2(0.001)),\n",
    "  layers.Dense(num_classes)\n",
    "])"
   ]
  },
  {
   "cell_type": "code",
   "execution_count": 186,
   "id": "861e7616",
   "metadata": {},
   "outputs": [],
   "source": [
    "#Compilation parameters\n",
    "optimizer = get_optimizer()\n",
    "model.compile(optimizer= get_optimizer(),\n",
    "              loss=tf.keras.losses.SparseCategoricalCrossentropy(from_logits=True),\n",
    "                metrics=[\n",
    "                  tf.keras.losses.SparseCategoricalCrossentropy(\n",
    "                      from_logits=True, name='Sparse_Categorical_Crossentropy'),\n",
    "                  'accuracy'])"
   ]
  },
  {
   "cell_type": "code",
   "execution_count": 18,
   "id": "edcd1f01",
   "metadata": {},
   "outputs": [
    {
     "name": "stdout",
     "output_type": "stream",
     "text": [
      "Model: \"sequential\"\n",
      "_________________________________________________________________\n",
      " Layer (type)                Output Shape              Param #   \n",
      "=================================================================\n",
      " conv2d (Conv2D)             (None, 64, 64, 32)        896       \n",
      "                                                                 \n",
      " max_pooling2d (MaxPooling2D  (None, 32, 32, 32)       0         \n",
      " )                                                               \n",
      "                                                                 \n",
      " conv2d_1 (Conv2D)           (None, 32, 32, 64)        18496     \n",
      "                                                                 \n",
      " max_pooling2d_1 (MaxPooling  (None, 16, 16, 64)       0         \n",
      " 2D)                                                             \n",
      "                                                                 \n",
      " conv2d_2 (Conv2D)           (None, 16, 16, 128)       73856     \n",
      "                                                                 \n",
      " max_pooling2d_2 (MaxPooling  (None, 8, 8, 128)        0         \n",
      " 2D)                                                             \n",
      "                                                                 \n",
      " flatten (Flatten)           (None, 8192)              0         \n",
      "                                                                 \n",
      " dropout (Dropout)           (None, 8192)              0         \n",
      "                                                                 \n",
      " dense (Dense)               (None, 256)               2097408   \n",
      "                                                                 \n",
      " dense_1 (Dense)             (None, 8)                 2056      \n",
      "                                                                 \n",
      "=================================================================\n",
      "Total params: 2,192,712\n",
      "Trainable params: 2,192,712\n",
      "Non-trainable params: 0\n",
      "_________________________________________________________________\n"
     ]
    }
   ],
   "source": [
    "model.summary()\n"
   ]
  },
  {
   "cell_type": "code",
   "execution_count": 187,
   "id": "b51a0d69",
   "metadata": {},
   "outputs": [
    {
     "name": "stdout",
     "output_type": "stream",
     "text": [
      "Epoch 1/10\n",
      "489/489 [==============================] - 43s 83ms/step - loss: 2.1967 - Sparse_Categorical_Crossentropy: 2.8839 - accuracy: 0.5908 - val_loss: 1.0421 - val_Sparse_Categorical_Crossentropy: 0.4816 - val_accuracy: 0.8451\n",
      "Epoch 2/10\n",
      "489/489 [==============================] - 33s 68ms/step - loss: 0.7088 - Sparse_Categorical_Crossentropy: 0.3490 - accuracy: 0.8839 - val_loss: 0.8329 - val_Sparse_Categorical_Crossentropy: 0.3037 - val_accuracy: 0.9075\n",
      "Epoch 3/10\n",
      "489/489 [==============================] - 34s 70ms/step - loss: 0.6039 - Sparse_Categorical_Crossentropy: 0.1884 - accuracy: 0.9394 - val_loss: 0.7634 - val_Sparse_Categorical_Crossentropy: 0.2586 - val_accuracy: 0.9275\n",
      "Epoch 4/10\n",
      "489/489 [==============================] - 34s 69ms/step - loss: 0.5507 - Sparse_Categorical_Crossentropy: 0.1255 - accuracy: 0.9592 - val_loss: 0.7313 - val_Sparse_Categorical_Crossentropy: 0.2471 - val_accuracy: 0.9287\n",
      "Epoch 5/10\n",
      "489/489 [==============================] - 33s 68ms/step - loss: 0.5166 - Sparse_Categorical_Crossentropy: 0.0946 - accuracy: 0.9701 - val_loss: 0.6932 - val_Sparse_Categorical_Crossentropy: 0.2277 - val_accuracy: 0.9338\n",
      "Epoch 6/10\n",
      "489/489 [==============================] - 33s 68ms/step - loss: 0.4892 - Sparse_Categorical_Crossentropy: 0.0711 - accuracy: 0.9790 - val_loss: 0.6712 - val_Sparse_Categorical_Crossentropy: 0.2241 - val_accuracy: 0.9373\n",
      "Epoch 7/10\n",
      "489/489 [==============================] - 34s 68ms/step - loss: 0.4620 - Sparse_Categorical_Crossentropy: 0.0504 - accuracy: 0.9867 - val_loss: 0.6608 - val_Sparse_Categorical_Crossentropy: 0.2294 - val_accuracy: 0.9409\n",
      "Epoch 8/10\n",
      "489/489 [==============================] - 36s 74ms/step - loss: 0.4457 - Sparse_Categorical_Crossentropy: 0.0498 - accuracy: 0.9847 - val_loss: 0.6269 - val_Sparse_Categorical_Crossentropy: 0.2128 - val_accuracy: 0.9451\n",
      "Epoch 9/10\n",
      "489/489 [==============================] - 35s 71ms/step - loss: 0.4257 - Sparse_Categorical_Crossentropy: 0.0414 - accuracy: 0.9876 - val_loss: 0.6015 - val_Sparse_Categorical_Crossentropy: 0.2023 - val_accuracy: 0.9454\n",
      "Epoch 10/10\n",
      "489/489 [==============================] - 34s 70ms/step - loss: 0.4057 - Sparse_Categorical_Crossentropy: 0.0334 - accuracy: 0.9917 - val_loss: 0.5862 - val_Sparse_Categorical_Crossentropy: 0.2030 - val_accuracy: 0.9499\n"
     ]
    }
   ],
   "source": [
    "#Model fitting\n",
    "epochs=10\n",
    "history = model.fit(\n",
    "  train_ds,\n",
    "  validation_data=val_ds,\n",
    "  epochs=epochs,\n",
    "  class_weight=class_weight  \n",
    ")"
   ]
  },
  {
   "cell_type": "code",
   "execution_count": 188,
   "id": "757948e6",
   "metadata": {},
   "outputs": [
    {
     "data": {
      "image/png": "[encoded data removed]",
      "text/plain": [
       "<Figure size 648x1080 with 3 Axes>"
      ]
     },
     "metadata": {
      "needs_background": "light"
     },
     "output_type": "display_data"
    }
   ],
   "source": [
    "#Plotting the model's fit history\n",
    "acc = history.history['accuracy']\n",
    "val_acc = history.history['val_accuracy']\n",
    "\n",
    "loss = history.history['loss']\n",
    "val_loss = history.history['val_loss']\n",
    "\n",
    "ce = history.history['Sparse_Categorical_Crossentropy']\n",
    "val_ce = history.history['val_Sparse_Categorical_Crossentropy']\n",
    "\n",
    "\n",
    "\n",
    "epochs_range = range(epochs)\n",
    "\n",
    "plt.figure(figsize=(9, 15))\n",
    "plt.subplot(3, 1, 1)\n",
    "plt.plot(epochs_range, acc, label='Training Accuracy')\n",
    "plt.plot(epochs_range, val_acc, label='Validation Accuracy')\n",
    "plt.legend(loc='lower right')\n",
    "plt.title('Training and Validation Accuracy')\n",
    "\n",
    "plt.subplot(3, 1, 2)\n",
    "plt.plot(epochs_range, loss, label='Training Loss')\n",
    "plt.plot(epochs_range, val_loss, label='Validation Loss')\n",
    "plt.legend(loc='upper right')\n",
    "plt.title('Training and Validation Loss')\n",
    "\n",
    "plt.subplot(3, 1, 3)\n",
    "plt.plot(epochs_range, ce, label='Training crossentropy')\n",
    "plt.plot(epochs_range, val_ce, label='Validation crossentropy')\n",
    "plt.legend(loc='upper right')\n",
    "plt.title('Training and Validation crossentropy')\n",
    "plt.show()\n"
   ]
  },
  {
   "cell_type": "code",
   "execution_count": 189,
   "id": "7f7a898c",
   "metadata": {},
   "outputs": [
    {
     "name": "stdout",
     "output_type": "stream",
     "text": [
      "dict_keys(['loss', 'Sparse_Categorical_Crossentropy', 'accuracy', 'val_loss', 'val_Sparse_Categorical_Crossentropy', 'val_accuracy'])\n"
     ]
    }
   ],
   "source": [
    "print(history.history.keys())"
   ]
  },
  {
   "cell_type": "markdown",
   "id": "6d57fd76",
   "metadata": {},
   "source": [
    "## Evaluation, saving and importing"
   ]
  },
  {
   "cell_type": "code",
   "execution_count": 190,
   "id": "fd2df15f",
   "metadata": {},
   "outputs": [
    {
     "name": "stdout",
     "output_type": "stream",
     "text": [
      "Found 130 files belonging to 8 classes.\n"
     ]
    }
   ],
   "source": [
    "# New test set using outside data ccollected aside from the ones use in training\n",
    "batch_size = 16\n",
    "STEPS_PER_EPOCH = batch_size\n",
    "data_dir = 'C:\\\\Users\\\\Cheon\\\\MasterData\\\\newTestSet'\n",
    "nts_ds = tf.keras.utils.image_dataset_from_directory(\n",
    "  data_dir,\n",
    "  image_size=(64, 64),\n",
    "  seed=123,\n",
    "  batch_size=batch_size)"
   ]
  },
  {
   "cell_type": "code",
   "execution_count": 193,
   "id": "293114f4",
   "metadata": {},
   "outputs": [
    {
     "name": "stdout",
     "output_type": "stream",
     "text": [
      "Evaluate on test data\n",
      "9/9 [==============================] - 0s 12ms/step - loss: 0.9919 - Sparse_Categorical_Crossentropy: 0.5504 - accuracy: 0.8462\n",
      "test loss, test acc: [0.9919439554214478, 0.550444483757019, 0.8461538553237915]\n"
     ]
    }
   ],
   "source": [
    "#Evluating a single image\n",
    "print(\"Evaluate on test data\")\n",
    "results = model.evaluate(nts_ds, batch_size=32)\n",
    "print(\"test loss, test acc:\", results)\n"
   ]
  },
  {
   "cell_type": "code",
   "execution_count": 196,
   "id": "d3a7e595",
   "metadata": {},
   "outputs": [],
   "source": [
    "#Saving model\n",
    "model.save('newmod5.h5')"
   ]
  },
  {
   "cell_type": "code",
   "execution_count": 4,
   "id": "c4cf9f2c",
   "metadata": {},
   "outputs": [],
   "source": [
    "#Test predicting individual models\n",
    "import numpy as np\n",
    "import argparse\n",
    "import cv2\n",
    "import os\n",
    "test =  cv2.imread('C:\\\\Users\\\\cheon\\\\MasterData\\\\newTestSet\\\\LTurn\\\\PR2sbnt124.png');\n"
   ]
  },
  {
   "cell_type": "code",
   "execution_count": 2,
   "id": "635c7b6a",
   "metadata": {},
   "outputs": [],
   "source": [
    "modelNew = keras.models.load_model('newmod4.h5',compile=False)\n"
   ]
  },
  {
   "cell_type": "code",
   "execution_count": 20,
   "id": "4ec538aa",
   "metadata": {},
   "outputs": [
    {
     "name": "stdout",
     "output_type": "stream",
     "text": [
      "Evaluate on test data\n"
     ]
    }
   ],
   "source": [
    "print(\"Evaluate on test data\")\n",
    "modelNew.compile(optimizer= get_optimizer(),\n",
    "              loss=tf.keras.losses.SparseCategoricalCrossentropy(from_logits=True),\n",
    "                metrics=[\n",
    "                  tf.keras.losses.SparseCategoricalCrossentropy(\n",
    "                      from_logits=True, name='Sparse_Categorical_Crossentropy'),\n",
    "                  'accuracy'])\n",
    "\n"
   ]
  },
  {
   "cell_type": "code",
   "execution_count": 21,
   "id": "b023cc5c",
   "metadata": {},
   "outputs": [
    {
     "name": "stdout",
     "output_type": "stream",
     "text": [
      "175/175 [==============================] - 3s 17ms/step - loss: 0.4432 - Sparse_Categorical_Crossentropy: 0.1835 - accuracy: 0.9553\n",
      "test loss, test acc: [0.44317200779914856, 0.18345904350280762, 0.9552772641181946]\n"
     ]
    }
   ],
   "source": [
    "#Accuracy, and loss \n",
    "results = modelNew.evaluate(test_ds, batch_size=32)\n",
    "print(\"test loss, test acc:\", results)"
   ]
  },
  {
   "cell_type": "code",
   "execution_count": 25,
   "id": "12f2bba1",
   "metadata": {},
   "outputs": [
    {
     "name": "stdout",
     "output_type": "stream",
     "text": [
      "1/1 [==============================] - 0s 394ms/step\n",
      "1/1 [==============================] - 0s 48ms/step\n",
      "1/1 [==============================] - 0s 32ms/step\n",
      "1/1 [==============================] - 0s 24ms/step\n",
      "1/1 [==============================] - 0s 25ms/step\n",
      "1/1 [==============================] - 0s 26ms/step\n",
      "1/1 [==============================] - 0s 24ms/step\n",
      "1/1 [==============================] - 0s 24ms/step\n",
      "1/1 [==============================] - 0s 25ms/step\n",
      "1/1 [==============================] - 0s 54ms/step\n",
      "1/1 [==============================] - 0s 24ms/step\n",
      "1/1 [==============================] - 0s 23ms/step\n",
      "1/1 [==============================] - 0s 43ms/step\n",
      "1/1 [==============================] - 0s 54ms/step\n",
      "1/1 [==============================] - 0s 26ms/step\n",
      "1/1 [==============================] - 0s 25ms/step\n",
      "1/1 [==============================] - 0s 25ms/step\n",
      "1/1 [==============================] - 0s 25ms/step\n",
      "1/1 [==============================] - 0s 25ms/step\n",
      "1/1 [==============================] - 0s 24ms/step\n",
      "1/1 [==============================] - 0s 24ms/step\n",
      "1/1 [==============================] - 0s 25ms/step\n",
      "1/1 [==============================] - 0s 24ms/step\n",
      "1/1 [==============================] - 0s 25ms/step\n",
      "1/1 [==============================] - 0s 25ms/step\n",
      "1/1 [==============================] - 0s 27ms/step\n",
      "1/1 [==============================] - 0s 25ms/step\n",
      "1/1 [==============================] - 0s 26ms/step\n",
      "1/1 [==============================] - 0s 26ms/step\n",
      "1/1 [==============================] - 0s 25ms/step\n",
      "1/1 [==============================] - 0s 26ms/step\n",
      "1/1 [==============================] - 0s 33ms/step\n",
      "1/1 [==============================] - 0s 27ms/step\n",
      "1/1 [==============================] - 0s 26ms/step\n",
      "1/1 [==============================] - 0s 23ms/step\n",
      "1/1 [==============================] - 0s 23ms/step\n",
      "1/1 [==============================] - 0s 24ms/step\n",
      "1/1 [==============================] - 0s 43ms/step\n",
      "1/1 [==============================] - 0s 24ms/step\n",
      "1/1 [==============================] - 0s 80ms/step\n",
      "1/1 [==============================] - 0s 51ms/step\n",
      "1/1 [==============================] - 0s 23ms/step\n",
      "1/1 [==============================] - 0s 25ms/step\n",
      "1/1 [==============================] - 0s 25ms/step\n",
      "1/1 [==============================] - 0s 26ms/step\n",
      "1/1 [==============================] - 0s 26ms/step\n",
      "1/1 [==============================] - 0s 23ms/step\n",
      "1/1 [==============================] - 0s 22ms/step\n",
      "1/1 [==============================] - 0s 23ms/step\n",
      "1/1 [==============================] - 0s 24ms/step\n",
      "1/1 [==============================] - 0s 24ms/step\n",
      "1/1 [==============================] - 0s 23ms/step\n",
      "1/1 [==============================] - 0s 46ms/step\n",
      "1/1 [==============================] - 0s 23ms/step\n",
      "1/1 [==============================] - 0s 24ms/step\n",
      "1/1 [==============================] - 0s 47ms/step\n",
      "1/1 [==============================] - 0s 23ms/step\n",
      "1/1 [==============================] - 0s 23ms/step\n",
      "1/1 [==============================] - 0s 23ms/step\n",
      "1/1 [==============================] - 0s 23ms/step\n",
      "1/1 [==============================] - 0s 24ms/step\n",
      "1/1 [==============================] - 0s 22ms/step\n",
      "1/1 [==============================] - 0s 23ms/step\n",
      "1/1 [==============================] - 0s 24ms/step\n",
      "1/1 [==============================] - 0s 24ms/step\n",
      "1/1 [==============================] - 0s 24ms/step\n",
      "1/1 [==============================] - 0s 24ms/step\n",
      "1/1 [==============================] - 0s 22ms/step\n",
      "1/1 [==============================] - 0s 164ms/step\n",
      "1/1 [==============================] - 0s 23ms/step\n",
      "1/1 [==============================] - 0s 25ms/step\n",
      "1/1 [==============================] - 0s 23ms/step\n",
      "1/1 [==============================] - 0s 22ms/step\n",
      "1/1 [==============================] - 0s 23ms/step\n",
      "1/1 [==============================] - 0s 25ms/step\n",
      "1/1 [==============================] - 0s 23ms/step\n",
      "1/1 [==============================] - 0s 23ms/step\n",
      "1/1 [==============================] - 0s 23ms/step\n",
      "1/1 [==============================] - 0s 24ms/step\n",
      "1/1 [==============================] - 0s 23ms/step\n",
      "1/1 [==============================] - 0s 129ms/step\n",
      "1/1 [==============================] - 0s 23ms/step\n",
      "1/1 [==============================] - 0s 24ms/step\n",
      "1/1 [==============================] - 0s 24ms/step\n",
      "1/1 [==============================] - 0s 23ms/step\n",
      "1/1 [==============================] - 0s 22ms/step\n",
      "1/1 [==============================] - 0s 26ms/step\n",
      "1/1 [==============================] - 0s 23ms/step\n",
      "1/1 [==============================] - 0s 24ms/step\n",
      "1/1 [==============================] - 0s 24ms/step\n",
      "1/1 [==============================] - 0s 27ms/step\n",
      "1/1 [==============================] - 0s 124ms/step\n",
      "1/1 [==============================] - 0s 26ms/step\n",
      "1/1 [==============================] - 0s 48ms/step\n",
      "1/1 [==============================] - 0s 24ms/step\n",
      "1/1 [==============================] - 0s 26ms/step\n",
      "1/1 [==============================] - 0s 25ms/step\n",
      "1/1 [==============================] - 0s 25ms/step\n",
      "1/1 [==============================] - 0s 23ms/step\n",
      "1/1 [==============================] - 0s 23ms/step\n",
      "1/1 [==============================] - 0s 24ms/step\n",
      "1/1 [==============================] - 0s 27ms/step\n",
      "1/1 [==============================] - 0s 23ms/step\n",
      "1/1 [==============================] - 0s 28ms/step\n",
      "1/1 [==============================] - 0s 28ms/step\n",
      "1/1 [==============================] - 0s 25ms/step\n",
      "1/1 [==============================] - 0s 25ms/step\n",
      "1/1 [==============================] - 0s 45ms/step\n",
      "1/1 [==============================] - 0s 25ms/step\n",
      "1/1 [==============================] - 0s 24ms/step\n",
      "1/1 [==============================] - 0s 23ms/step\n",
      "1/1 [==============================] - 0s 23ms/step\n",
      "1/1 [==============================] - 0s 23ms/step\n",
      "1/1 [==============================] - 0s 27ms/step\n",
      "1/1 [==============================] - 0s 24ms/step\n",
      "1/1 [==============================] - 0s 24ms/step\n",
      "1/1 [==============================] - 0s 31ms/step\n",
      "1/1 [==============================] - 0s 24ms/step\n",
      "1/1 [==============================] - 0s 25ms/step\n",
      "1/1 [==============================] - 0s 24ms/step\n",
      "1/1 [==============================] - 0s 23ms/step\n",
      "1/1 [==============================] - 0s 24ms/step\n",
      "1/1 [==============================] - 0s 23ms/step\n",
      "1/1 [==============================] - 0s 81ms/step\n",
      "1/1 [==============================] - 0s 26ms/step\n",
      "1/1 [==============================] - 0s 26ms/step\n",
      "1/1 [==============================] - 0s 25ms/step\n",
      "1/1 [==============================] - 0s 24ms/step\n",
      "1/1 [==============================] - 0s 25ms/step\n",
      "1/1 [==============================] - 0s 25ms/step\n",
      "1/1 [==============================] - 0s 24ms/step\n",
      "1/1 [==============================] - 0s 27ms/step\n",
      "1/1 [==============================] - 0s 28ms/step\n",
      "1/1 [==============================] - 0s 22ms/step\n",
      "1/1 [==============================] - 0s 24ms/step\n",
      "1/1 [==============================] - 0s 24ms/step\n",
      "1/1 [==============================] - 0s 23ms/step\n",
      "1/1 [==============================] - 0s 23ms/step\n",
      "1/1 [==============================] - 0s 24ms/step\n",
      "1/1 [==============================] - 0s 24ms/step\n",
      "1/1 [==============================] - 0s 23ms/step\n",
      "1/1 [==============================] - 0s 24ms/step\n",
      "1/1 [==============================] - 0s 23ms/step\n",
      "1/1 [==============================] - 0s 23ms/step\n",
      "1/1 [==============================] - 0s 23ms/step\n",
      "1/1 [==============================] - 0s 25ms/step\n",
      "1/1 [==============================] - 0s 23ms/step\n",
      "1/1 [==============================] - 0s 24ms/step\n",
      "1/1 [==============================] - 0s 26ms/step\n",
      "1/1 [==============================] - 0s 28ms/step\n",
      "1/1 [==============================] - 0s 26ms/step\n",
      "1/1 [==============================] - 0s 26ms/step\n",
      "1/1 [==============================] - 0s 25ms/step\n",
      "1/1 [==============================] - 0s 24ms/step\n",
      "1/1 [==============================] - 0s 23ms/step\n",
      "1/1 [==============================] - 0s 23ms/step\n",
      "1/1 [==============================] - 0s 24ms/step\n",
      "1/1 [==============================] - 0s 26ms/step\n",
      "1/1 [==============================] - 0s 25ms/step\n",
      "1/1 [==============================] - 0s 24ms/step\n",
      "1/1 [==============================] - 0s 25ms/step\n",
      "1/1 [==============================] - 0s 24ms/step\n",
      "1/1 [==============================] - 0s 23ms/step\n",
      "1/1 [==============================] - 0s 23ms/step\n",
      "1/1 [==============================] - 0s 26ms/step\n",
      "1/1 [==============================] - 0s 25ms/step\n",
      "1/1 [==============================] - 0s 23ms/step\n",
      "1/1 [==============================] - 0s 27ms/step\n",
      "1/1 [==============================] - 0s 25ms/step\n",
      "1/1 [==============================] - 0s 24ms/step\n",
      "1/1 [==============================] - 0s 24ms/step\n",
      "1/1 [==============================] - 0s 24ms/step\n",
      "1/1 [==============================] - 0s 26ms/step\n",
      "1/1 [==============================] - 0s 26ms/step\n",
      "1/1 [==============================] - 0s 22ms/step\n"
     ]
    }
   ],
   "source": [
    "#Generating labels for confusion matrix\n",
    "y_pred = []  # store predicted labels\n",
    "y_true = []  # store true labels\n",
    "\n",
    "\n",
    "# iterate over the dataset\n",
    "for image_batch, label_batch in test_ds:   # use dataset.unbatch() with repeat\n",
    "   # append true labels\n",
    "   y_true.append(label_batch)\n",
    "   # compute predictions\n",
    "   preds = modelNew.predict(image_batch)\n",
    "   # append predicted labels\n",
    "   y_pred.append(np.argmax(preds, axis = - 1))\n",
    "\n",
    "# convert the true and predicted labels into tensors\n",
    "correct_labels = tf.concat([item for item in y_true], axis = 0)\n",
    "predicted_labels = tf.concat([item for item in y_pred], axis = 0)\n"
   ]
  },
  {
   "cell_type": "code",
   "execution_count": 32,
   "id": "4b919806",
   "metadata": {},
   "outputs": [
    {
     "data": {
      "text/plain": [
       "0.9632643653220869"
      ]
     },
     "execution_count": 32,
     "metadata": {},
     "output_type": "execute_result"
    }
   ],
   "source": [
    "#Recall\n",
    "from sklearn.metrics import recall_score\n",
    "from sklearn.metrics import precision_score\n",
    "\n",
    "recall_score(predicted_labels, correct_labels, average='macro')\n"
   ]
  },
  {
   "cell_type": "code",
   "execution_count": 33,
   "id": "96af2720",
   "metadata": {},
   "outputs": [
    {
     "data": {
      "text/plain": [
       "0.9553793614892987"
      ]
     },
     "execution_count": 33,
     "metadata": {},
     "output_type": "execute_result"
    }
   ],
   "source": [
    "#Precision\n",
    "precision_score(predicted_labels, correct_labels, average='macro')"
   ]
  },
  {
   "cell_type": "code",
   "execution_count": 30,
   "id": "6c3f69f7",
   "metadata": {
    "scrolled": true
   },
   "outputs": [
    {
     "data": {
      "text/plain": [
       "array([[275,   1,   0,   0,   5,   6,   0,   1],\n",
       "       [  3, 294,   0,   1,   2,   0,   0,   0],\n",
       "       [  0,   0, 181,   0,   0,   1,   0,   0],\n",
       "       [  2,   5,   2, 574,  16,  10,  14,   7],\n",
       "       [  0,   0,   0,   2, 269,   0,   0,   0],\n",
       "       [  3,   0,   0,   0,   0, 353,   0,   3],\n",
       "       [  2,   4,   0,  11,   3,   0, 450,   3],\n",
       "       [  0,   0,   0,   4,   0,  14,   0, 274]], dtype=int64)"
      ]
     },
     "execution_count": 30,
     "metadata": {},
     "output_type": "execute_result"
    }
   ],
   "source": [
    "#Confusion matrix\n",
    "from sklearn.metrics import confusion_matrix\n",
    "confusion_matrix(predicted_labels, correct_labels)"
   ]
  },
  {
   "cell_type": "code",
   "execution_count": null,
   "id": "6bc5f0a1",
   "metadata": {},
   "outputs": [],
   "source": []
  }
 ],
 "metadata": {
  "kernelspec": {
   "display_name": "Python 3 (ipykernel)",
   "language": "python",
   "name": "python3"
  },
  "language_info": {
   "codemirror_mode": {
    "name": "ipython",
    "version": 3
   },
   "file_extension": ".py",
   "mimetype": "text/x-python",
   "name": "python",
   "nbconvert_exporter": "python",
   "pygments_lexer": "ipython3",
   "version": "3.9.12"
  }
 },
 "nbformat": 4,
 "nbformat_minor": 5
}
