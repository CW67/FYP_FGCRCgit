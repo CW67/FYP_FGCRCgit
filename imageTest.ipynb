{
 "cells": [
  {
   "cell_type": "code",
   "execution_count": 249,
   "id": "dd09426a",
   "metadata": {},
   "outputs": [],
   "source": [
    "import numpy as np\n",
    "import argparse\n",
    "import cv2\n",
    "import os"
   ]
  },
  {
   "cell_type": "code",
   "execution_count": 286,
   "id": "80b409a5",
   "metadata": {},
   "outputs": [],
   "source": [
    "original =  cv2.imread('C:\\\\Users\\Cheon\\MasterData\\mLForward\\sfn52.png'\n",
    "                 );"
   ]
  },
  {
   "cell_type": "code",
   "execution_count": 287,
   "id": "2a49a9e0",
   "metadata": {},
   "outputs": [
    {
     "data": {
      "text/plain": [
       "-1"
      ]
     },
     "execution_count": 287,
     "metadata": {},
     "output_type": "execute_result"
    }
   ],
   "source": [
    "cv2.imshow('color image',original) \n",
    "cv2.waitKey(0); cv2.destroyAllWindows(); cv2.waitKey(1)"
   ]
  },
  {
   "cell_type": "code",
   "execution_count": 288,
   "id": "75285510",
   "metadata": {},
   "outputs": [
    {
     "name": "stdout",
     "output_type": "stream",
     "text": [
      "Resized Dimensions :  (512, 512, 3)\n"
     ]
    }
   ],
   "source": [
    "width = 512\n",
    "height = 512\n",
    "dim = (width, height)\n",
    " \n",
    "# resize image\n",
    "resized = cv2.resize(original, dim, interpolation = cv2.INTER_AREA)\n",
    " \n",
    "print('Resized Dimensions : ',resized.shape)\n",
    " \n",
    "cv2.imshow(\"Resized image\", resized)\n",
    "cv2.waitKey(0)\n",
    "cv2.destroyAllWindows()"
   ]
  },
  {
   "cell_type": "code",
   "execution_count": 305,
   "id": "4aa9e498",
   "metadata": {},
   "outputs": [],
   "source": [
    "# define the upper and lower boundaries of the HSV pixel\n",
    "# intensities to be considered 'skin'\n",
    "\n",
    "#sa values\n",
    "#lower = np.array([60, 50, 20], dtype = \"uint8\")\n",
    "#upper = np.array([200, 255, 255], dtype = \"uint8\")\n",
    "\n",
    "#sb values\n",
    "#lower = np.array([90, 30, 20], dtype = \"uint8\")\n",
    "#upper = np.array([180, 255, 255], dtype = \"uint8\")\n",
    "\n",
    "#sc values\n",
    "#lower = np.array([30, 5,0], dtype = \"uint8\")\n",
    "#upper = np.array([180, 255, 160], dtype = \"uint8\")\n",
    "\n",
    "#sd values\n",
    "#lower = np.array([20, 20, 100], dtype = \"uint8\")\n",
    "#upper = np.array([180, 255, 200], dtype = \"uint8\")\n",
    "\n",
    "#se values\n",
    "#lower = np.array([90, 70, 70], dtype = \"uint8\")\n",
    "#upper = np.array([180, 255, 255], dtype = \"uint8\")\n",
    "\n",
    "#sf values\n",
    "lower = np.array([60, 60, 60], dtype = \"uint8\")\n",
    "upper = np.array([180, 255, 255], dtype = \"uint8\")"
   ]
  },
  {
   "cell_type": "code",
   "execution_count": 306,
   "id": "7fef7eab",
   "metadata": {},
   "outputs": [],
   "source": [
    "converted = cv2.cvtColor(resized, cv2.COLOR_RGB2HSV)\n",
    "blur = cv2.blur(converted,(5,5))\n",
    "skinMask = cv2.inRange(converted, lower, upper)\n",
    "cv2.imshow('result', skinMask)\n",
    "cv2.waitKey()\n",
    "cv2.waitKey(0)\n",
    "cv2.destroyAllWindows()"
   ]
  },
  {
   "cell_type": "code",
   "execution_count": 307,
   "id": "afc148a2",
   "metadata": {},
   "outputs": [],
   "source": [
    "# apply a series of erosions and dilations to the mask\n",
    "# using an elliptical kernel\n",
    "kernel = cv2.getStructuringElement(cv2.MORPH_ELLIPSE, (5, 5))\n",
    "skinMask = cv2.erode(skinMask, kernel, iterations = 2)\n",
    "skinMask = cv2.dilate(skinMask, kernel, iterations = 5)\n",
    "skin = cv2.bitwise_and(resized, resized, mask = skinMask)\n",
    "# show the skin in the image along with the mask\n",
    "cv2.imshow(\"images\", skinMask)\n",
    "\n",
    "# show the skin in the image along with the mask\n",
    "#cv2.imshow(\"Mask image\", skinMask)\n",
    "cv2.waitKey(0)\n",
    "cv2.destroyAllWindows()\n"
   ]
  },
  {
   "cell_type": "code",
   "execution_count": 274,
   "id": "dbf0ef01",
   "metadata": {},
   "outputs": [],
   "source": [
    "#Test (NOT WORKING) for further shadow removal by taking only larges contour\n",
    "output = skin\n",
    "contours, hierarchy = cv2.findContours(skinMask, cv2.RETR_EXTERNAL, cv2.CHAIN_APPROX_NONE)\n",
    "blank_mask = np.zeros(output.shape, dtype=np.uint8)\n",
    "\n",
    "if len(contours) != 0:\n",
    "    # draw in blue the contours that were founded\n",
    "\n",
    "    # find the biggest countour (c) by the area\n",
    "    c = max(contours, key = cv2.contourArea)\n",
    "    \n",
    "    cv2.fillPoly(blank_mask, [c], (255,255,255))\n",
    "\n",
    "\n",
    "# show the images\n",
    "cv2.imshow(\"Result\", blank_mask)\n",
    "cv2.waitKey(0)\n",
    "cv2.destroyAllWindows()\n"
   ]
  },
  {
   "cell_type": "code",
   "execution_count": 15,
   "id": "288988f7",
   "metadata": {},
   "outputs": [],
   "source": []
  },
  {
   "cell_type": "code",
   "execution_count": 308,
   "id": "76bc39c4",
   "metadata": {},
   "outputs": [],
   "source": [
    "#Function to convert images to mask \n",
    "#Manually set lower and upper boundaries depending on the userclass\n",
    "#No one size fit all method\n",
    "\n",
    "import numpy as np\n",
    "import argparse\n",
    "import cv2\n",
    "\n",
    "\n",
    "def massconvert(imageDir,filename,saveDir):\n",
    "    original =  cv2.imread(imageDir);\n",
    "    width = 512\n",
    "    height = 512\n",
    "    dim = (width, height)\n",
    "\n",
    "    # resize image\n",
    "    resized = cv2.resize(original, dim, interpolation = cv2.INTER_AREA)\n",
    "\n",
    "\n",
    "    # define the upper and lower boundaries of the HSV pixel\n",
    "    # intensities to be considered 'skin'\n",
    "    lower = np.array([60, 60, 60], dtype = \"uint8\")\n",
    "    upper = np.array([180, 255, 255], dtype = \"uint8\")\n",
    "\n",
    "    converted = cv2.cvtColor(resized, cv2.COLOR_RGB2HSV)\n",
    "    skinMask = cv2.inRange(converted, lower, upper)\n",
    "\n",
    "    # apply a series of erosions and dilations to the mask\n",
    "    # using an elliptical kernel\n",
    "    kernel = cv2.getStructuringElement(cv2.MORPH_ELLIPSE, (5, 5))\n",
    "    skinMask = cv2.erode(skinMask, kernel, iterations = 3)\n",
    "    skinMask = cv2.dilate(skinMask, kernel, iterations = 5)\n",
    "    cv2.imwrite(saveDir + '\\\\PR' + filename, skinMask)\n",
    "    #print(saveDir + '\\\\PR' + filename)\n",
    "\n",
    "\n"
   ]
  },
  {
   "cell_type": "code",
   "execution_count": 284,
   "id": "f8b881e7",
   "metadata": {},
   "outputs": [],
   "source": [
    "#Function to loop through the subdirectory andd convert all images matching prefix(which indicatesa a certain user's feet type)\n",
    "def conversionLoop(mainDir,subdirectory,prefix):\n",
    "    import os, re\n",
    "    pfName = mainDir + subdirectory\n",
    "    for i in os.listdir(pfName):\n",
    "        #rint(os.path.join(pfName,i))\n",
    "        if os.path.isfile(os.path.join(pfName,i)) and i.startswith(prefix):\n",
    "            #print(pfName)\n",
    "            massconvert(os.path.join(pfName,i),i,pfName)\n",
    "            #print(os.path.join(pfName,i))"
   ]
  },
  {
   "cell_type": "code",
   "execution_count": 309,
   "id": "ed04220c",
   "metadata": {},
   "outputs": [],
   "source": [
    "#Execute conversion loop in all subdirectories\n",
    "dirList = ['mClose','mLForward','mLTurn','mLUp','mNeutral','mPointIn','mPointOut','mRForward','mRTurn','mRUp']\n",
    "for i in dirList:\n",
    "    conversionLoop('C:\\\\Users\\Cheon\\MasterData\\\\' ,i,'sf')"
   ]
  },
  {
   "cell_type": "code",
   "execution_count": 6,
   "id": "1374d614",
   "metadata": {},
   "outputs": [
    {
     "ename": "NameError",
     "evalue": "name 'directory' is not defined",
     "output_type": "error",
     "traceback": [
      "\u001b[1;31m---------------------------------------------------------------------------\u001b[0m",
      "\u001b[1;31mNameError\u001b[0m                                 Traceback (most recent call last)",
      "Input \u001b[1;32mIn [6]\u001b[0m, in \u001b[0;36m<cell line: 1>\u001b[1;34m()\u001b[0m\n\u001b[1;32m----> 1\u001b[0m \u001b[38;5;28;01mfor\u001b[39;00m root, subdirectories, files \u001b[38;5;129;01min\u001b[39;00m os\u001b[38;5;241m.\u001b[39mwalk(\u001b[43mdirectory\u001b[49m):\n\u001b[0;32m      2\u001b[0m     \u001b[38;5;28;01mfor\u001b[39;00m subdirectory \u001b[38;5;129;01min\u001b[39;00m subdirectories:\n\u001b[0;32m      3\u001b[0m         \u001b[38;5;28mprint\u001b[39m(subdirectory)\n",
      "\u001b[1;31mNameError\u001b[0m: name 'directory' is not defined"
     ]
    }
   ],
   "source": [
    "for root, subdirectories, files in os.walk(directory):\n",
    "    for subdirectory in subdirectories:\n",
    "        print(subdirectory)"
   ]
  },
  {
   "cell_type": "code",
   "execution_count": null,
   "id": "6769b7ea",
   "metadata": {},
   "outputs": [],
   "source": [
    "#Test for auto skin thresholding using foot-at-center as example\n"
   ]
  },
  {
   "cell_type": "code",
   "execution_count": null,
   "id": "5d9549d9",
   "metadata": {},
   "outputs": [],
   "source": []
  },
  {
   "cell_type": "code",
   "execution_count": null,
   "id": "c0fa89cb",
   "metadata": {},
   "outputs": [],
   "source": []
  }
 ],
 "metadata": {
  "kernelspec": {
   "display_name": "Python 3 (ipykernel)",
   "language": "python",
   "name": "python3"
  },
  "language_info": {
   "codemirror_mode": {
    "name": "ipython",
    "version": 3
   },
   "file_extension": ".py",
   "mimetype": "text/x-python",
   "name": "python",
   "nbconvert_exporter": "python",
   "pygments_lexer": "ipython3",
   "version": "3.9.12"
  }
 },
 "nbformat": 4,
 "nbformat_minor": 5
}
